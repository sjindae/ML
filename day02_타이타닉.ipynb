{
 "cells": [
  {
   "cell_type": "raw",
   "id": "496838b8-9b22-4b0d-a4c9-7f04db935b13",
   "metadata": {},
   "source": [
    "20220411"
   ]
  },
  {
   "cell_type": "markdown",
   "id": "0b6a243a-e7d1-4b5c-805d-8a2be2731c8d",
   "metadata": {
    "tags": []
   },
   "source": [
    "# 타이타닉 데이터"
   ]
  },
  {
   "cell_type": "code",
   "execution_count": 1,
   "id": "53656aac-6936-46d5-a464-bcac9700e5c0",
   "metadata": {},
   "outputs": [],
   "source": [
    "# 교재 132p\n",
    "# kaggle에서 train.csv 다운로드 -> titanic_train.csv 로 이름변경"
   ]
  },
  {
   "cell_type": "code",
   "execution_count": 2,
   "id": "6821d416-5cf4-47bd-928c-dbe9cd0761ff",
   "metadata": {},
   "outputs": [],
   "source": [
    "import numpy as np\n",
    "import pandas as pd\n",
    "import matplotlib.pyplot as plt\n",
    "import seaborn as sns"
   ]
  },
  {
   "cell_type": "code",
   "execution_count": 3,
   "id": "3231ebde-84d9-4686-9c1e-20bb3c0352b8",
   "metadata": {},
   "outputs": [
    {
     "data": {
      "text/html": [
       "<div>\n",
       "<style scoped>\n",
       "    .dataframe tbody tr th:only-of-type {\n",
       "        vertical-align: middle;\n",
       "    }\n",
       "\n",
       "    .dataframe tbody tr th {\n",
       "        vertical-align: top;\n",
       "    }\n",
       "\n",
       "    .dataframe thead th {\n",
       "        text-align: right;\n",
       "    }\n",
       "</style>\n",
       "<table border=\"1\" class=\"dataframe\">\n",
       "  <thead>\n",
       "    <tr style=\"text-align: right;\">\n",
       "      <th></th>\n",
       "      <th>PassengerId</th>\n",
       "      <th>Survived</th>\n",
       "      <th>Pclass</th>\n",
       "      <th>Name</th>\n",
       "      <th>Sex</th>\n",
       "      <th>Age</th>\n",
       "      <th>SibSp</th>\n",
       "      <th>Parch</th>\n",
       "      <th>Ticket</th>\n",
       "      <th>Fare</th>\n",
       "      <th>Cabin</th>\n",
       "      <th>Embarked</th>\n",
       "    </tr>\n",
       "  </thead>\n",
       "  <tbody>\n",
       "    <tr>\n",
       "      <th>0</th>\n",
       "      <td>1</td>\n",
       "      <td>0</td>\n",
       "      <td>3</td>\n",
       "      <td>Braund, Mr. Owen Harris</td>\n",
       "      <td>male</td>\n",
       "      <td>22.0</td>\n",
       "      <td>1</td>\n",
       "      <td>0</td>\n",
       "      <td>A/5 21171</td>\n",
       "      <td>7.2500</td>\n",
       "      <td>NaN</td>\n",
       "      <td>S</td>\n",
       "    </tr>\n",
       "    <tr>\n",
       "      <th>1</th>\n",
       "      <td>2</td>\n",
       "      <td>1</td>\n",
       "      <td>1</td>\n",
       "      <td>Cumings, Mrs. John Bradley (Florence Briggs Th...</td>\n",
       "      <td>female</td>\n",
       "      <td>38.0</td>\n",
       "      <td>1</td>\n",
       "      <td>0</td>\n",
       "      <td>PC 17599</td>\n",
       "      <td>71.2833</td>\n",
       "      <td>C85</td>\n",
       "      <td>C</td>\n",
       "    </tr>\n",
       "  </tbody>\n",
       "</table>\n",
       "</div>"
      ],
      "text/plain": [
       "   PassengerId  Survived  Pclass  \\\n",
       "0            1         0       3   \n",
       "1            2         1       1   \n",
       "\n",
       "                                                Name     Sex   Age  SibSp  \\\n",
       "0                            Braund, Mr. Owen Harris    male  22.0      1   \n",
       "1  Cumings, Mrs. John Bradley (Florence Briggs Th...  female  38.0      1   \n",
       "\n",
       "   Parch     Ticket     Fare Cabin Embarked  \n",
       "0      0  A/5 21171   7.2500   NaN        S  \n",
       "1      0   PC 17599  71.2833   C85        C  "
      ]
     },
     "execution_count": 3,
     "metadata": {},
     "output_type": "execute_result"
    }
   ],
   "source": [
    "titanic_df = pd.read_csv('titanic_train.csv')\n",
    "titanic_df.head(2)"
   ]
  },
  {
   "cell_type": "code",
   "execution_count": 4,
   "id": "43c48a9f-8271-4742-9b21-e59da7c06c3b",
   "metadata": {},
   "outputs": [
    {
     "name": "stdout",
     "output_type": "stream",
     "text": [
      "<class 'pandas.core.frame.DataFrame'>\n",
      "RangeIndex: 891 entries, 0 to 890\n",
      "Data columns (total 12 columns):\n",
      " #   Column       Non-Null Count  Dtype  \n",
      "---  ------       --------------  -----  \n",
      " 0   PassengerId  891 non-null    int64  \n",
      " 1   Survived     891 non-null    int64  \n",
      " 2   Pclass       891 non-null    int64  \n",
      " 3   Name         891 non-null    object \n",
      " 4   Sex          891 non-null    object \n",
      " 5   Age          714 non-null    float64\n",
      " 6   SibSp        891 non-null    int64  \n",
      " 7   Parch        891 non-null    int64  \n",
      " 8   Ticket       891 non-null    object \n",
      " 9   Fare         891 non-null    float64\n",
      " 10  Cabin        204 non-null    object \n",
      " 11  Embarked     889 non-null    object \n",
      "dtypes: float64(2), int64(5), object(5)\n",
      "memory usage: 83.7+ KB\n"
     ]
    }
   ],
   "source": [
    "titanic_df.info()    # null, data type 확인"
   ]
  },
  {
   "cell_type": "code",
   "execution_count": 5,
   "id": "8427e211-b7bd-4b73-ba2a-09bda9cb5c65",
   "metadata": {},
   "outputs": [],
   "source": [
    "# cavin은 204개 밖에 없네\n",
    "# Age, Embarked 전처리 필요하겠구만"
   ]
  },
  {
   "cell_type": "code",
   "execution_count": 6,
   "id": "670ad59d-3f5e-4cd4-856b-ecb5154db244",
   "metadata": {},
   "outputs": [],
   "source": [
    "titanic_df['Age'].fillna(titanic_df['Age'].mean(),inplace=True)\n",
    "titanic_df['Cabin'].fillna('N',inplace=True)\n",
    "titanic_df['Embarked'].fillna('N',inplace=True)"
   ]
  },
  {
   "cell_type": "code",
   "execution_count": 7,
   "id": "6610225d-5501-465b-8b99-26b2b117b55d",
   "metadata": {},
   "outputs": [
    {
     "data": {
      "text/plain": [
       "PassengerId    0\n",
       "Survived       0\n",
       "Pclass         0\n",
       "Name           0\n",
       "Sex            0\n",
       "Age            0\n",
       "SibSp          0\n",
       "Parch          0\n",
       "Ticket         0\n",
       "Fare           0\n",
       "Cabin          0\n",
       "Embarked       0\n",
       "dtype: int64"
      ]
     },
     "execution_count": 7,
     "metadata": {},
     "output_type": "execute_result"
    }
   ],
   "source": [
    "titanic_df.isnull().sum()"
   ]
  },
  {
   "cell_type": "code",
   "execution_count": 8,
   "id": "969edbab-1aac-4375-b6ae-88f67958ed51",
   "metadata": {},
   "outputs": [
    {
     "data": {
      "text/plain": [
       "male      577\n",
       "female    314\n",
       "Name: Sex, dtype: int64"
      ]
     },
     "execution_count": 8,
     "metadata": {},
     "output_type": "execute_result"
    }
   ],
   "source": [
    "titanic_df.Sex.value_counts()"
   ]
  },
  {
   "cell_type": "code",
   "execution_count": 9,
   "id": "0ac52623-4851-459d-ab13-c754c435e916",
   "metadata": {},
   "outputs": [
    {
     "data": {
      "text/plain": [
       "N              687\n",
       "C23 C25 C27      4\n",
       "G6               4\n",
       "B96 B98          4\n",
       "C22 C26          3\n",
       "              ... \n",
       "E34              1\n",
       "C7               1\n",
       "C54              1\n",
       "E36              1\n",
       "C148             1\n",
       "Name: Cabin, Length: 148, dtype: int64"
      ]
     },
     "execution_count": 9,
     "metadata": {},
     "output_type": "execute_result"
    }
   ],
   "source": [
    "titanic_df.Cabin.value_counts()"
   ]
  },
  {
   "cell_type": "code",
   "execution_count": 10,
   "id": "479968c4-5fa1-4759-ae6d-69eeeb199971",
   "metadata": {},
   "outputs": [
    {
     "data": {
      "text/plain": [
       "S    644\n",
       "C    168\n",
       "Q     77\n",
       "N      2\n",
       "Name: Embarked, dtype: int64"
      ]
     },
     "execution_count": 10,
     "metadata": {},
     "output_type": "execute_result"
    }
   ],
   "source": [
    "titanic_df.Embarked.value_counts()"
   ]
  },
  {
   "cell_type": "code",
   "execution_count": 11,
   "id": "fb8380e0-41fd-414d-9e80-bc4152e57e19",
   "metadata": {},
   "outputs": [],
   "source": [
    "titanic_df.Cabin = titanic_df.Cabin.str[:1]"
   ]
  },
  {
   "cell_type": "code",
   "execution_count": 12,
   "id": "1680b0ee-e975-4763-82e4-cc05911c7b5b",
   "metadata": {},
   "outputs": [
    {
     "data": {
      "text/plain": [
       "0    N\n",
       "1    C\n",
       "2    N\n",
       "Name: Cabin, dtype: object"
      ]
     },
     "execution_count": 12,
     "metadata": {},
     "output_type": "execute_result"
    }
   ],
   "source": [
    "titanic_df.Cabin.head(3)"
   ]
  },
  {
   "cell_type": "code",
   "execution_count": 13,
   "id": "0a63b19d-201d-4632-aa0e-092b906b4b6c",
   "metadata": {},
   "outputs": [
    {
     "data": {
      "text/plain": [
       "Sex     Survived\n",
       "female  0            81\n",
       "        1           233\n",
       "male    0           468\n",
       "        1           109\n",
       "Name: Survived, dtype: int64"
      ]
     },
     "execution_count": 13,
     "metadata": {},
     "output_type": "execute_result"
    }
   ],
   "source": [
    "titanic_df.groupby(['Sex','Survived'])['Survived'].count()"
   ]
  },
  {
   "cell_type": "code",
   "execution_count": 14,
   "id": "0ab3acbc-7d76-464f-a04e-3ff9c70848ca",
   "metadata": {},
   "outputs": [
    {
     "data": {
      "text/plain": [
       "<AxesSubplot:xlabel='Sex', ylabel='Survived'>"
      ]
     },
     "execution_count": 14,
     "metadata": {},
     "output_type": "execute_result"
    },
    {
     "data": {
      "image/png": "[encoded data removed]",
      "text/plain": [
       "<Figure size 432x288 with 1 Axes>"
      ]
     },
     "metadata": {
      "needs_background": "light"
     },
     "output_type": "display_data"
    }
   ],
   "source": [
    "sns.barplot(x='Sex',y='Survived',data=titanic_df)"
   ]
  },
  {
   "cell_type": "code",
   "execution_count": 15,
   "id": "e40c1f72-31ba-496c-a42f-27676e68359d",
   "metadata": {},
   "outputs": [
    {
     "data": {
      "text/plain": [
       "<AxesSubplot:xlabel='Pclass', ylabel='Survived'>"
      ]
     },
     "execution_count": 15,
     "metadata": {},
     "output_type": "execute_result"
    },
    {
     "data": {
      "image/png": "[encoded data removed]",
      "text/plain": [
       "<Figure size 432x288 with 1 Axes>"
      ]
     },
     "metadata": {
      "needs_background": "light"
     },
     "output_type": "display_data"
    }
   ],
   "source": [
    "sns.barplot(x='Pclass',y='Survived',data=titanic_df)"
   ]
  },
  {
   "cell_type": "code",
   "execution_count": 16,
   "id": "8aca9ac0-aab9-452a-8645-d6e89db360e3",
   "metadata": {},
   "outputs": [
    {
     "data": {
      "text/plain": [
       "<AxesSubplot:xlabel='Pclass', ylabel='Survived'>"
      ]
     },
     "execution_count": 16,
     "metadata": {},
     "output_type": "execute_result"
    },
    {
     "data": {
      "image/png": "[encoded data removed]",
      "text/plain": [
       "<Figure size 432x288 with 1 Axes>"
      ]
     },
     "metadata": {
      "needs_background": "light"
     },
     "output_type": "display_data"
    }
   ],
   "source": [
    "sns.barplot(x='Pclass',y='Survived', hue='Sex',data=titanic_df)"
   ]
  },
  {
   "cell_type": "code",
   "execution_count": 17,
   "id": "03d8f704-8e93-4178-aac5-867fec2ba257",
   "metadata": {},
   "outputs": [
    {
     "data": {
      "text/plain": [
       "<AxesSubplot:xlabel='Age', ylabel='Survived'>"
      ]
     },
     "execution_count": 17,
     "metadata": {},
     "output_type": "execute_result"
    },
    {
     "data": {
      "image/png": "[encoded data removed]",
      "text/plain": [
       "<Figure size 432x288 with 1 Axes>"
      ]
     },
     "metadata": {
      "needs_background": "light"
     },
     "output_type": "display_data"
    }
   ],
   "source": [
    "sns.barplot(x='Age',y='Survived', hue='Sex',data=titanic_df)    # Age는 개수가 많아서 잘안보임 -> 구간을 준다."
   ]
  },
  {
   "cell_type": "code",
   "execution_count": 18,
   "id": "ccebcc1f-1628-49d3-8d86-a4257a579bf3",
   "metadata": {},
   "outputs": [],
   "source": [
    "def get_category(age):\n",
    "    cat=''\n",
    "    if age <= -1: cat='Unknown'\n",
    "    elif age <= 5: cat='Baby'\n",
    "    elif age <= 12: cat='Child'\n",
    "    elif age <= 18: cat='Teenager'\n",
    "    elif age <= 25: cat='Student'\n",
    "    elif age <= 35: cat='Young Adult'\n",
    "    elif age <= 60: cat='Adult'\n",
    "    else: cat='Elderly'\n",
    "    return cat"
   ]
  },
  {
   "cell_type": "code",
   "execution_count": 19,
   "id": "a3aa3d26-51fb-47ab-9e69-ccb34a1f5716",
   "metadata": {},
   "outputs": [
    {
     "data": {
      "text/plain": [
       "<AxesSubplot:xlabel='Age_cat', ylabel='Survived'>"
      ]
     },
     "execution_count": 19,
     "metadata": {},
     "output_type": "execute_result"
    },
    {
     "data": {
      "image/png": "[encoded data removed]",
      "text/plain": [
       "<Figure size 720x432 with 1 Axes>"
      ]
     },
     "metadata": {
      "needs_background": "light"
     },
     "output_type": "display_data"
    }
   ],
   "source": [
    "plt.figure(figsize=(10,6))\n",
    "group_names = ['Unknown','Baby','Child','Teenager','Student','Young Adult','Adult','Elderly']    # 원하는 순서대로\n",
    "titanic_df['Age_cat'] = titanic_df['Age'].apply(lambda x:get_category(x))\n",
    "sns.barplot(x='Age_cat',y='Survived',hue='Sex',data=titanic_df,order=group_names)"
   ]
  },
  {
   "cell_type": "code",
   "execution_count": 20,
   "id": "578f0afa-a04d-4da4-b8a9-711ae6aa06f6",
   "metadata": {},
   "outputs": [],
   "source": [
    "from sklearn.preprocessing import LabelEncoder"
   ]
  },
  {
   "cell_type": "code",
   "execution_count": 21,
   "id": "4c448c00-4a01-4765-81a8-0aa70eb46d81",
   "metadata": {},
   "outputs": [],
   "source": [
    "def encode_features(dataDf):\n",
    "    from sklearn.preprocessing import LabelEncoder\n",
    "    features = ['Cabin','Sex','Embarked']\n",
    "    for feature in features:\n",
    "        dataDf[feature] = LabelEncoder().fit_transform(dataDf[feature])    # fit에 넣어주는 값과 transform에 넣어주는 값이 같으므로 fit_transform 사용가능\n",
    "    return dataDf"
   ]
  },
  {
   "cell_type": "code",
   "execution_count": 22,
   "id": "5b62381d-d17b-4587-9a88-65990d92fee4",
   "metadata": {},
   "outputs": [
    {
     "data": {
      "text/html": [
       "<div>\n",
       "<style scoped>\n",
       "    .dataframe tbody tr th:only-of-type {\n",
       "        vertical-align: middle;\n",
       "    }\n",
       "\n",
       "    .dataframe tbody tr th {\n",
       "        vertical-align: top;\n",
       "    }\n",
       "\n",
       "    .dataframe thead th {\n",
       "        text-align: right;\n",
       "    }\n",
       "</style>\n",
       "<table border=\"1\" class=\"dataframe\">\n",
       "  <thead>\n",
       "    <tr style=\"text-align: right;\">\n",
       "      <th></th>\n",
       "      <th>PassengerId</th>\n",
       "      <th>Survived</th>\n",
       "      <th>Pclass</th>\n",
       "      <th>Name</th>\n",
       "      <th>Sex</th>\n",
       "      <th>Age</th>\n",
       "      <th>SibSp</th>\n",
       "      <th>Parch</th>\n",
       "      <th>Ticket</th>\n",
       "      <th>Fare</th>\n",
       "      <th>Cabin</th>\n",
       "      <th>Embarked</th>\n",
       "      <th>Age_cat</th>\n",
       "    </tr>\n",
       "  </thead>\n",
       "  <tbody>\n",
       "    <tr>\n",
       "      <th>0</th>\n",
       "      <td>1</td>\n",
       "      <td>0</td>\n",
       "      <td>3</td>\n",
       "      <td>Braund, Mr. Owen Harris</td>\n",
       "      <td>1</td>\n",
       "      <td>22.0</td>\n",
       "      <td>1</td>\n",
       "      <td>0</td>\n",
       "      <td>A/5 21171</td>\n",
       "      <td>7.2500</td>\n",
       "      <td>7</td>\n",
       "      <td>3</td>\n",
       "      <td>Student</td>\n",
       "    </tr>\n",
       "    <tr>\n",
       "      <th>1</th>\n",
       "      <td>2</td>\n",
       "      <td>1</td>\n",
       "      <td>1</td>\n",
       "      <td>Cumings, Mrs. John Bradley (Florence Briggs Th...</td>\n",
       "      <td>0</td>\n",
       "      <td>38.0</td>\n",
       "      <td>1</td>\n",
       "      <td>0</td>\n",
       "      <td>PC 17599</td>\n",
       "      <td>71.2833</td>\n",
       "      <td>2</td>\n",
       "      <td>0</td>\n",
       "      <td>Adult</td>\n",
       "    </tr>\n",
       "  </tbody>\n",
       "</table>\n",
       "</div>"
      ],
      "text/plain": [
       "   PassengerId  Survived  Pclass  \\\n",
       "0            1         0       3   \n",
       "1            2         1       1   \n",
       "\n",
       "                                                Name  Sex   Age  SibSp  Parch  \\\n",
       "0                            Braund, Mr. Owen Harris    1  22.0      1      0   \n",
       "1  Cumings, Mrs. John Bradley (Florence Briggs Th...    0  38.0      1      0   \n",
       "\n",
       "      Ticket     Fare  Cabin  Embarked  Age_cat  \n",
       "0  A/5 21171   7.2500      7         3  Student  \n",
       "1   PC 17599  71.2833      2         0    Adult  "
      ]
     },
     "execution_count": 22,
     "metadata": {},
     "output_type": "execute_result"
    }
   ],
   "source": [
    "titanic_df = encode_features(titanic_df)\n",
    "titanic_df.head(2)"
   ]
  },
  {
   "cell_type": "code",
   "execution_count": 23,
   "id": "6d17a04e-c34f-4f13-b43c-454675bb812c",
   "metadata": {},
   "outputs": [
    {
     "data": {
      "image/png": "[encoded data removed]",
      "text/plain": [
       "<Figure size 720x432 with 1 Axes>"
      ]
     },
     "metadata": {
      "needs_background": "light"
     },
     "output_type": "display_data"
    }
   ],
   "source": [
    "plt.figure(figsize=(10,6))\n",
    "group_names = ['Unknown','Baby','Child','Teenager','Student','Young Adult','Adult','Elderly']    # 원하는 순서대로\n",
    "titanic_df['Age_cat'] = titanic_df['Age'].apply(lambda x:get_category(x))\n",
    "sns.barplot(x='Age_cat',y='Survived',hue='Sex',data=titanic_df,order=group_names)\n",
    "titanic_df.drop(columns='Age_cat',inplace=True)"
   ]
  },
  {
   "cell_type": "code",
   "execution_count": 24,
   "id": "af6c6d40-9f83-49bf-9127-5087ae405f69",
   "metadata": {},
   "outputs": [],
   "source": [
    "# 함수 종합\n",
    "\n",
    "def fillna(df):\n",
    "    df['Age'].fillna(titanic_df['Age'].mean(),inplace=True)\n",
    "    df['Cabin'].fillna('N',inplace=True)\n",
    "    df['Embarked'].fillna('N',inplace=True)\n",
    "    df['Fare'].fillna(0,inplace=True)\n",
    "    return df\n",
    "\n",
    "def drop_features(df):\n",
    "    df.drop(columns=['PassengerId','Name','Ticket'],inplace=True)\n",
    "    return df\n",
    "\n",
    "def format_features(df):\n",
    "    from sklearn.preprocessing import LabelEncoder\n",
    "    df.Cabin = df.Cabin.str[:1]\n",
    "    features = ['Cabin','Sex','Embarked']\n",
    "    for feature in features:\n",
    "        df[feature] = LabelEncoder().fit_transform(df[feature])    # fit에 넣어주는 값과 transform에 넣어주는 값이 같으므로 fit_transform 사용가능\n",
    "    return df\n",
    "\n",
    "def transform_features(df):\n",
    "    df = fillna(df)\n",
    "    df = drop_features(df)\n",
    "    df = format_features(df)\n",
    "    return df"
   ]
  },
  {
   "cell_type": "code",
   "execution_count": 25,
   "id": "f06fd939-3916-4692-812f-a53394f372ea",
   "metadata": {},
   "outputs": [],
   "source": [
    "titanic_df = pd.read_csv('titanic_train.csv')    # 데이터 불러오고\n",
    "y_titanic_df = titanic_df['Survived']    # y\n",
    "X_titanic_df = titanic_df.drop(columns=['Survived'])    # X\n",
    "X_titanic_df = transform_features(X_titanic_df)    # 함수 처리"
   ]
  },
  {
   "cell_type": "code",
   "execution_count": 26,
   "id": "0a5a7840-433a-4166-a970-076ee11c9e52",
   "metadata": {},
   "outputs": [],
   "source": [
    "from sklearn.model_selection import train_test_split"
   ]
  },
  {
   "cell_type": "code",
   "execution_count": 27,
   "id": "98c5a1cc-1067-4066-9fd3-779d343e9ea5",
   "metadata": {},
   "outputs": [],
   "source": [
    "# 과적합을 방지하기 위함.\n",
    "\n",
    "X_train,X_test,y_train,y_test = train_test_split(X_titanic_df,\n",
    "                                                 y_titanic_df,\n",
    "                                                 test_size=0.2,\n",
    "                                                 random_state=11)"
   ]
  },
  {
   "cell_type": "code",
   "execution_count": 28,
   "id": "70b3a81b-cc29-41b6-97fb-ea10c097301e",
   "metadata": {},
   "outputs": [],
   "source": [
    "# 분류하는 모델 3가지\n",
    "from sklearn.tree import DecisionTreeClassifier\n",
    "from sklearn.ensemble import RandomForestClassifier    # DecisionTree가 여러개 뭉친 것\n",
    "from sklearn.linear_model import LogisticRegression\n",
    "\n",
    "# 평가\n",
    "from sklearn.metrics import accuracy_score"
   ]
  },
  {
   "cell_type": "code",
   "execution_count": 29,
   "id": "b94dc659-c9ac-4000-b7c0-9e95a4009dfc",
   "metadata": {},
   "outputs": [],
   "source": [
    "dt_clf = DecisionTreeClassifier(random_state=11)\n",
    "rf_clf = RandomForestClassifier(random_state=11)\n",
    "lr_clf = LogisticRegression()"
   ]
  },
  {
   "cell_type": "code",
   "execution_count": 71,
   "id": "0ad3e574-8c2d-4b37-828a-5b47686ea81e",
   "metadata": {},
   "outputs": [
    {
     "data": {
      "text/plain": [
       "LogisticRegression()"
      ]
     },
     "execution_count": 71,
     "metadata": {},
     "output_type": "execute_result"
    }
   ],
   "source": [
    "# 모델 각각 피팅\n",
    "\n",
    "dt_clf.fit(X_train,y_train)\n",
    "rf_clf.fit(X_train,y_train)\n",
    "lr_clf.fit(X_train,y_train)"
   ]
  },
  {
   "cell_type": "code",
   "execution_count": 31,
   "id": "82ca7655-f4a6-4194-8d19-5af67ee9c1a6",
   "metadata": {},
   "outputs": [],
   "source": [
    "dt_pred = dt_clf.predict(X_test)\n",
    "rf_pred = rf_clf.predict(X_test)    # 보편적으로 성능이 좋게 나온대.. 왠지는 못들어따..\n",
    "lr_pred = lr_clf.predict(X_test)"
   ]
  },
  {
   "cell_type": "code",
   "execution_count": 32,
   "id": "297a8800-d4b8-4f0e-aa5f-d001b83b6c70",
   "metadata": {},
   "outputs": [
    {
     "name": "stdout",
     "output_type": "stream",
     "text": [
      "dt 0.7877094972067039\n",
      "rf 0.8547486033519553\n",
      "lr 0.8491620111731844\n"
     ]
    }
   ],
   "source": [
    "# 모델별 정확도 비교\n",
    "\n",
    "print('dt',accuracy_score(y_test,dt_pred))\n",
    "print('rf',accuracy_score(y_test,rf_pred))\n",
    "print('lr',accuracy_score(y_test,lr_pred))"
   ]
  },
  {
   "cell_type": "markdown",
   "id": "32bb96e2-f3bd-4fdd-808d-bf7d4c21ebf2",
   "metadata": {},
   "source": [
    "# 20220412"
   ]
  },
  {
   "cell_type": "code",
   "execution_count": 60,
   "id": "e2370df2-f0c8-4a6c-a227-5cd106f8f0a2",
   "metadata": {},
   "outputs": [],
   "source": [
    "# 이제 교차검증 해야겠지?\n",
    "from sklearn.model_selection import KFold\n",
    "# 이 셀에 커서 두고 상단바에 kernel - Restart Kernel and Run up to Selected Cell...하면 이 셀 위로 전부 실행됨(restart)\n",
    "import warnings\n",
    "warnings.filterwarnings('ignore')"
   ]
  },
  {
   "cell_type": "code",
   "execution_count": 61,
   "id": "77b75d53-ecef-4097-a3e6-0881abeff9f7",
   "metadata": {},
   "outputs": [],
   "source": [
    "def exec_kfold(clf,folds=5):\n",
    "    kfold = KFold(n_splits=folds,shuffle=True)    # shuffle=True면 할 때마다 결과 달라짐\n",
    "    scores = []\n",
    "    for iter_count,(train_index,test_index) in enumerate(kfold.split(X_titanic_df)):    # index값이 나오면\n",
    "        X_train,X_test = X_titanic_df.values[train_index],X_titanic_df.values[test_index]    # 데이터를 분리할 수 있다.\n",
    "        y_train,y_test = y_titanic_df.values[train_index],y_titanic_df.values[test_index]\n",
    "        clf.fit(X_train,y_train)\n",
    "        pred = clf.predict(X_test)\n",
    "        accuracy = accuracy_score(y_test,pred)\n",
    "        scores.append(accuracy)\n",
    "        print(f'교차검증 {iter_count} 정확도:{accuracy:.4f}')\n",
    "    mean_score = np.mean(scores)\n",
    "    print(f'평균 정확도: {mean_score:.4f}')"
   ]
  },
  {
   "cell_type": "code",
   "execution_count": 62,
   "id": "60a4ca6e-113b-4b55-b942-bcb037de0d91",
   "metadata": {},
   "outputs": [
    {
     "name": "stdout",
     "output_type": "stream",
     "text": [
      "교차검증 0 정확도:0.7654\n",
      "교차검증 1 정확도:0.7978\n",
      "교차검증 2 정확도:0.7584\n",
      "교차검증 3 정확도:0.7584\n",
      "교차검증 4 정확도:0.7472\n",
      "평균 정확도: 0.7654\n"
     ]
    }
   ],
   "source": [
    "# 함수에 모델 넣어주면 됨 = 위에서 이미 피팅한 모델\n",
    "exec_kfold(dt_clf)    # dt 0.7877094972067039 : 위에서 그냥 검증한 결과  // 교차검증 하면 보통 정확도가 떨어진다!\n",
    "# shuffle = False 결과\n",
    "# 교차검증 0 정확도:0.7542\n",
    "# 교차검증 1 정확도:0.7809\n",
    "# 교차검증 2 정확도:0.7865\n",
    "# 교차검증 3 정확도:0.7697\n",
    "# 교차검증 4 정확도:0.8202\n",
    "# 평균 정확도: 0.7823"
   ]
  },
  {
   "cell_type": "code",
   "execution_count": 63,
   "id": "3739333d-f3ac-42ac-8412-3e1ee4321b92",
   "metadata": {},
   "outputs": [
    {
     "name": "stdout",
     "output_type": "stream",
     "text": [
      "교차검증 0 정확도:0.8156\n",
      "교차검증 1 정확도:0.7640\n",
      "교차검증 2 정확도:0.8427\n",
      "교차검증 3 정확도:0.8202\n",
      "교차검증 4 정확도:0.8034\n",
      "평균 정확도: 0.8092\n"
     ]
    }
   ],
   "source": [
    "exec_kfold(rf_clf)    # rf 0.8547486033519553\n",
    "# shuffle = False 결과\n",
    "# 교차검증 0 정확도:0.7933\n",
    "# 교차검증 1 정확도:0.8090\n",
    "# 교차검증 2 정확도:0.8371\n",
    "# 교차검증 3 정확도:0.7753\n",
    "# 교차검증 4 정확도:0.8596\n",
    "# 평균 정확도: 0.8148"
   ]
  },
  {
   "cell_type": "code",
   "execution_count": 64,
   "id": "c13db4e0-e7f4-4592-89c4-996f29d5964d",
   "metadata": {},
   "outputs": [
    {
     "name": "stdout",
     "output_type": "stream",
     "text": [
      "교차검증 0 정확도:0.7654\n",
      "교차검증 1 정확도:0.8034\n",
      "교차검증 2 정확도:0.8090\n",
      "교차검증 3 정확도:0.8258\n",
      "교차검증 4 정확도:0.7022\n",
      "평균 정확도: 0.7812\n"
     ]
    }
   ],
   "source": [
    "exec_kfold(lr_clf)    # lr 0.8491620111731844\n",
    "# shuffle = False 결과\n",
    "# 교차검증 0 정확도:0.8045\n",
    "# 교차검증 1 정확도:0.7809\n",
    "# 교차검증 2 정확도:0.7753\n",
    "# 교차검증 3 정확도:0.7584\n",
    "# 교차검증 4 정확도:0.8371\n",
    "# 평균 정확도: 0.7912"
   ]
  },
  {
   "cell_type": "code",
   "execution_count": 65,
   "id": "d05439b0-31d1-4516-bc77-1a22ac0e6a2b",
   "metadata": {},
   "outputs": [],
   "source": [
    "from sklearn.model_selection import cross_val_score"
   ]
  },
  {
   "cell_type": "code",
   "execution_count": 66,
   "id": "76d9f03f-72c8-41ca-858a-275dbd87791e",
   "metadata": {},
   "outputs": [
    {
     "name": "stdout",
     "output_type": "stream",
     "text": [
      "교차검증 0 정확도 : 0.7430\n",
      "교차검증 1 정확도 : 0.7753\n",
      "교차검증 2 정확도 : 0.7921\n",
      "교차검증 3 정확도 : 0.7865\n",
      "교차검증 4 정확도 : 0.8427\n",
      "평균정확도:0.7879\n"
     ]
    }
   ],
   "source": [
    "scores = cross_val_score(dt_clf,X_titanic_df,y_titanic_df,cv=5)    # cv: 몇등분할거냐\n",
    "for iter_count,accuracy in enumerate(scores):\n",
    "    print(f'교차검증 {iter_count} 정확도 : {accuracy:.4f}')\n",
    "print(f'평균정확도:{np.mean(scores):.4f}')"
   ]
  },
  {
   "cell_type": "code",
   "execution_count": 67,
   "id": "cdb7b6d7-e312-4a9b-a004-3884199b0caf",
   "metadata": {},
   "outputs": [],
   "source": [
    "# 내 맘대로 만든 함수\n",
    "def c_v_s(clf):\n",
    "    scores = cross_val_score(clf,X_titanic_df,y_titanic_df,cv=5)    # cv: 몇등분할거냐\n",
    "    for iter_count,accuracy in enumerate(scores):\n",
    "        print(f'교차검증 {iter_count} 정확도 : {accuracy:.4f}')\n",
    "    print(f'평균정확도:{np.mean(scores):.4f}')"
   ]
  },
  {
   "cell_type": "code",
   "execution_count": 68,
   "id": "6798a0c0-d540-4b6c-82bc-156ec96e84dd",
   "metadata": {},
   "outputs": [
    {
     "name": "stdout",
     "output_type": "stream",
     "text": [
      "교차검증 0 정확도 : 0.7430\n",
      "교차검증 1 정확도 : 0.7753\n",
      "교차검증 2 정확도 : 0.7921\n",
      "교차검증 3 정확도 : 0.7865\n",
      "교차검증 4 정확도 : 0.8427\n",
      "평균정확도:0.7879\n"
     ]
    }
   ],
   "source": [
    "c_v_s(dt_clf)"
   ]
  },
  {
   "cell_type": "code",
   "execution_count": 69,
   "id": "c2846a99-5c1a-4713-a277-48df09f9dd3c",
   "metadata": {},
   "outputs": [
    {
     "name": "stdout",
     "output_type": "stream",
     "text": [
      "교차검증 0 정확도 : 0.7933\n",
      "교차검증 1 정확도 : 0.7978\n",
      "교차검증 2 정확도 : 0.8483\n",
      "교차검증 3 정확도 : 0.7640\n",
      "교차검증 4 정확도 : 0.8652\n",
      "평균정확도:0.8137\n"
     ]
    }
   ],
   "source": [
    "c_v_s(rf_clf)"
   ]
  },
  {
   "cell_type": "code",
   "execution_count": 70,
   "id": "43b3474a-f001-4fac-9f63-163f09b55a89",
   "metadata": {},
   "outputs": [
    {
     "name": "stdout",
     "output_type": "stream",
     "text": [
      "교차검증 0 정확도 : 0.7989\n",
      "교차검증 1 정확도 : 0.7697\n",
      "교차검증 2 정확도 : 0.7809\n",
      "교차검증 3 정확도 : 0.7753\n",
      "교차검증 4 정확도 : 0.8146\n",
      "평균정확도:0.7879\n"
     ]
    }
   ],
   "source": [
    "c_v_s(lr_clf)"
   ]
  },
  {
   "cell_type": "code",
   "execution_count": 72,
   "id": "4c016137-931c-4e56-89bc-d763b4119f44",
   "metadata": {},
   "outputs": [],
   "source": [
    "from sklearn.model_selection import GridSearchCV"
   ]
  },
  {
   "cell_type": "code",
   "execution_count": 74,
   "id": "e417c1cc-9dcc-41c5-991a-8d5ef395ba60",
   "metadata": {},
   "outputs": [],
   "source": [
    "# DecisionTreeClassifier의 파라메터\n",
    "parameters = {\n",
    "    'max_depth':[2,3,5,10],    # 트리 깊이\n",
    "    'min_samples_split':[2,3,5],\n",
    "    'min_samples_leaf':[1,5,8]\n",
    "}"
   ]
  },
  {
   "cell_type": "code",
   "execution_count": 75,
   "id": "627a3338-7d47-4ca7-b48b-cbd491adfb51",
   "metadata": {},
   "outputs": [
    {
     "data": {
      "text/plain": [
       "GridSearchCV(cv=5, estimator=DecisionTreeClassifier(random_state=11),\n",
       "             param_grid={'max_depth': [2, 3, 5, 10],\n",
       "                         'min_samples_leaf': [1, 5, 8],\n",
       "                         'min_samples_split': [2, 3, 5]},\n",
       "             scoring='accuracy')"
      ]
     },
     "execution_count": 75,
     "metadata": {},
     "output_type": "execute_result"
    }
   ],
   "source": [
    "grid_dclf = GridSearchCV(dt_clf,param_grid=parameters,scoring='accuracy',cv=5)\n",
    "grid_dclf.fit(X_train,y_train)"
   ]
  },
  {
   "cell_type": "code",
   "execution_count": 76,
   "id": "8e7c2900-5c79-4670-9da6-b2d090905c72",
   "metadata": {},
   "outputs": [
    {
     "data": {
      "text/plain": [
       "{'mean_fit_time': array([0.00139666, 0.00179505, 0.00139532, 0.00159631, 0.00140228,\n",
       "        0.0017962 , 0.00180011, 0.00139756, 0.0017961 , 0.00179377,\n",
       "        0.00219955, 0.00189075, 0.00158925, 0.00191269, 0.00159011,\n",
       "        0.00160742, 0.00180321, 0.00160103, 0.00179186, 0.00160885,\n",
       "        0.00181155, 0.00161104, 0.00199385, 0.00139108, 0.0018086 ,\n",
       "        0.00159559, 0.00159636, 0.00178185, 0.00201058, 0.00200539,\n",
       "        0.00180779, 0.00160117, 0.0019959 , 0.00120282, 0.00180988,\n",
       "        0.00199409]),\n",
       " 'std_fit_time': array([4.88519610e-04, 3.98874696e-04, 8.10054827e-04, 4.88694689e-04,\n",
       "        4.84709618e-04, 3.98971403e-04, 3.87693606e-04, 4.87297467e-04,\n",
       "        3.96299864e-04, 3.97560921e-04, 4.07759193e-04, 4.82879140e-04,\n",
       "        4.86361218e-04, 5.10832725e-04, 4.83360647e-04, 4.99933505e-04,\n",
       "        4.16613512e-04, 4.93825771e-04, 3.98319480e-04, 4.98924952e-04,\n",
       "        4.07979972e-04, 4.75840036e-04, 3.81290871e-06, 4.82430238e-04,\n",
       "        4.05784370e-04, 4.88013575e-04, 4.92455698e-04, 3.93591962e-04,\n",
       "        2.68887116e-05, 1.17831855e-05, 7.34058222e-04, 4.93440837e-04,\n",
       "        2.02600247e-05, 3.96018700e-04, 4.06882535e-04, 1.73416700e-05]),\n",
       " 'mean_score_time': array([0.00099707, 0.00099745, 0.00099301, 0.00099702, 0.00099587,\n",
       "        0.00079708, 0.00079293, 0.00099049, 0.0007967 , 0.00079923,\n",
       "        0.00079141, 0.00059924, 0.00100389, 0.00099297, 0.00080924,\n",
       "        0.00099206, 0.00079007, 0.00099797, 0.0010129 , 0.00079479,\n",
       "        0.00099297, 0.00099497, 0.0007977 , 0.00100994, 0.00079784,\n",
       "        0.0006103 , 0.00101566, 0.00079784, 0.00098848, 0.00099802,\n",
       "        0.00079703, 0.00081415, 0.0005981 , 0.00081077, 0.00098982,\n",
       "        0.00100932]),\n",
       " 'std_score_time': array([6.21719590e-07, 5.35248383e-07, 8.12724140e-06, 5.51978917e-07,\n",
       "        4.16516644e-06, 3.98542665e-04, 3.96608985e-04, 1.17408502e-05,\n",
       "        3.98362918e-04, 3.99997640e-04, 3.95797637e-04, 4.89282922e-04,\n",
       "        1.29508481e-05, 6.32334031e-04, 4.05356612e-04, 1.42788646e-05,\n",
       "        3.95225391e-04, 1.18155591e-06, 2.97794636e-05, 3.97429386e-04,\n",
       "        2.54102759e-05, 1.11220670e-05, 3.98855269e-04, 2.19018320e-05,\n",
       "        3.98925728e-04, 4.98826970e-04, 2.18956022e-05, 3.98960295e-04,\n",
       "        2.77742807e-05, 7.12548537e-06, 3.98950076e-04, 3.76538755e-04,\n",
       "        4.88345498e-04, 4.06250304e-04, 2.87254715e-05, 2.33175808e-05]),\n",
       " 'param_max_depth': masked_array(data=[2, 2, 2, 2, 2, 2, 2, 2, 2, 3, 3, 3, 3, 3, 3, 3, 3, 3,\n",
       "                    5, 5, 5, 5, 5, 5, 5, 5, 5, 10, 10, 10, 10, 10, 10, 10,\n",
       "                    10, 10],\n",
       "              mask=[False, False, False, False, False, False, False, False,\n",
       "                    False, False, False, False, False, False, False, False,\n",
       "                    False, False, False, False, False, False, False, False,\n",
       "                    False, False, False, False, False, False, False, False,\n",
       "                    False, False, False, False],\n",
       "        fill_value='?',\n",
       "             dtype=object),\n",
       " 'param_min_samples_leaf': masked_array(data=[1, 1, 1, 5, 5, 5, 8, 8, 8, 1, 1, 1, 5, 5, 5, 8, 8, 8,\n",
       "                    1, 1, 1, 5, 5, 5, 8, 8, 8, 1, 1, 1, 5, 5, 5, 8, 8, 8],\n",
       "              mask=[False, False, False, False, False, False, False, False,\n",
       "                    False, False, False, False, False, False, False, False,\n",
       "                    False, False, False, False, False, False, False, False,\n",
       "                    False, False, False, False, False, False, False, False,\n",
       "                    False, False, False, False],\n",
       "        fill_value='?',\n",
       "             dtype=object),\n",
       " 'param_min_samples_split': masked_array(data=[2, 3, 5, 2, 3, 5, 2, 3, 5, 2, 3, 5, 2, 3, 5, 2, 3, 5,\n",
       "                    2, 3, 5, 2, 3, 5, 2, 3, 5, 2, 3, 5, 2, 3, 5, 2, 3, 5],\n",
       "              mask=[False, False, False, False, False, False, False, False,\n",
       "                    False, False, False, False, False, False, False, False,\n",
       "                    False, False, False, False, False, False, False, False,\n",
       "                    False, False, False, False, False, False, False, False,\n",
       "                    False, False, False, False],\n",
       "        fill_value='?',\n",
       "             dtype=object),\n",
       " 'params': [{'max_depth': 2, 'min_samples_leaf': 1, 'min_samples_split': 2},\n",
       "  {'max_depth': 2, 'min_samples_leaf': 1, 'min_samples_split': 3},\n",
       "  {'max_depth': 2, 'min_samples_leaf': 1, 'min_samples_split': 5},\n",
       "  {'max_depth': 2, 'min_samples_leaf': 5, 'min_samples_split': 2},\n",
       "  {'max_depth': 2, 'min_samples_leaf': 5, 'min_samples_split': 3},\n",
       "  {'max_depth': 2, 'min_samples_leaf': 5, 'min_samples_split': 5},\n",
       "  {'max_depth': 2, 'min_samples_leaf': 8, 'min_samples_split': 2},\n",
       "  {'max_depth': 2, 'min_samples_leaf': 8, 'min_samples_split': 3},\n",
       "  {'max_depth': 2, 'min_samples_leaf': 8, 'min_samples_split': 5},\n",
       "  {'max_depth': 3, 'min_samples_leaf': 1, 'min_samples_split': 2},\n",
       "  {'max_depth': 3, 'min_samples_leaf': 1, 'min_samples_split': 3},\n",
       "  {'max_depth': 3, 'min_samples_leaf': 1, 'min_samples_split': 5},\n",
       "  {'max_depth': 3, 'min_samples_leaf': 5, 'min_samples_split': 2},\n",
       "  {'max_depth': 3, 'min_samples_leaf': 5, 'min_samples_split': 3},\n",
       "  {'max_depth': 3, 'min_samples_leaf': 5, 'min_samples_split': 5},\n",
       "  {'max_depth': 3, 'min_samples_leaf': 8, 'min_samples_split': 2},\n",
       "  {'max_depth': 3, 'min_samples_leaf': 8, 'min_samples_split': 3},\n",
       "  {'max_depth': 3, 'min_samples_leaf': 8, 'min_samples_split': 5},\n",
       "  {'max_depth': 5, 'min_samples_leaf': 1, 'min_samples_split': 2},\n",
       "  {'max_depth': 5, 'min_samples_leaf': 1, 'min_samples_split': 3},\n",
       "  {'max_depth': 5, 'min_samples_leaf': 1, 'min_samples_split': 5},\n",
       "  {'max_depth': 5, 'min_samples_leaf': 5, 'min_samples_split': 2},\n",
       "  {'max_depth': 5, 'min_samples_leaf': 5, 'min_samples_split': 3},\n",
       "  {'max_depth': 5, 'min_samples_leaf': 5, 'min_samples_split': 5},\n",
       "  {'max_depth': 5, 'min_samples_leaf': 8, 'min_samples_split': 2},\n",
       "  {'max_depth': 5, 'min_samples_leaf': 8, 'min_samples_split': 3},\n",
       "  {'max_depth': 5, 'min_samples_leaf': 8, 'min_samples_split': 5},\n",
       "  {'max_depth': 10, 'min_samples_leaf': 1, 'min_samples_split': 2},\n",
       "  {'max_depth': 10, 'min_samples_leaf': 1, 'min_samples_split': 3},\n",
       "  {'max_depth': 10, 'min_samples_leaf': 1, 'min_samples_split': 5},\n",
       "  {'max_depth': 10, 'min_samples_leaf': 5, 'min_samples_split': 2},\n",
       "  {'max_depth': 10, 'min_samples_leaf': 5, 'min_samples_split': 3},\n",
       "  {'max_depth': 10, 'min_samples_leaf': 5, 'min_samples_split': 5},\n",
       "  {'max_depth': 10, 'min_samples_leaf': 8, 'min_samples_split': 2},\n",
       "  {'max_depth': 10, 'min_samples_leaf': 8, 'min_samples_split': 3},\n",
       "  {'max_depth': 10, 'min_samples_leaf': 8, 'min_samples_split': 5}],\n",
       " 'split0_test_score': array([0.73426573, 0.73426573, 0.73426573, 0.73426573, 0.73426573,\n",
       "        0.73426573, 0.73426573, 0.73426573, 0.73426573, 0.79020979,\n",
       "        0.79020979, 0.79020979, 0.79020979, 0.79020979, 0.79020979,\n",
       "        0.79020979, 0.79020979, 0.79020979, 0.72727273, 0.72727273,\n",
       "        0.72727273, 0.72027972, 0.72027972, 0.72027972, 0.72727273,\n",
       "        0.72727273, 0.72727273, 0.76223776, 0.76223776, 0.76923077,\n",
       "        0.72727273, 0.72727273, 0.72727273, 0.74825175, 0.74825175,\n",
       "        0.74825175]),\n",
       " 'split1_test_score': array([0.76923077, 0.76923077, 0.76923077, 0.76923077, 0.76923077,\n",
       "        0.76923077, 0.76923077, 0.76923077, 0.76923077, 0.7972028 ,\n",
       "        0.7972028 , 0.7972028 , 0.79020979, 0.79020979, 0.79020979,\n",
       "        0.79020979, 0.79020979, 0.79020979, 0.78321678, 0.78321678,\n",
       "        0.77622378, 0.78321678, 0.78321678, 0.78321678, 0.8041958 ,\n",
       "        0.8041958 , 0.8041958 , 0.74125874, 0.73426573, 0.73426573,\n",
       "        0.72027972, 0.72027972, 0.72027972, 0.75524476, 0.75524476,\n",
       "        0.75524476]),\n",
       " 'split2_test_score': array([0.75352113, 0.75352113, 0.75352113, 0.75352113, 0.75352113,\n",
       "        0.75352113, 0.75352113, 0.75352113, 0.75352113, 0.83098592,\n",
       "        0.83098592, 0.83098592, 0.83098592, 0.83098592, 0.83098592,\n",
       "        0.82394366, 0.82394366, 0.82394366, 0.8028169 , 0.82394366,\n",
       "        0.83802817, 0.83802817, 0.83802817, 0.83802817, 0.82394366,\n",
       "        0.82394366, 0.82394366, 0.81690141, 0.81690141, 0.81690141,\n",
       "        0.83802817, 0.83802817, 0.83802817, 0.83802817, 0.83802817,\n",
       "        0.83802817]),\n",
       " 'split3_test_score': array([0.78873239, 0.78873239, 0.78873239, 0.78873239, 0.78873239,\n",
       "        0.78873239, 0.78873239, 0.78873239, 0.78873239, 0.8028169 ,\n",
       "        0.8028169 , 0.8028169 , 0.8028169 , 0.8028169 , 0.8028169 ,\n",
       "        0.8028169 , 0.8028169 , 0.8028169 , 0.8028169 , 0.8028169 ,\n",
       "        0.8028169 , 0.81690141, 0.81690141, 0.81690141, 0.81690141,\n",
       "        0.81690141, 0.81690141, 0.81690141, 0.83098592, 0.83098592,\n",
       "        0.85915493, 0.85915493, 0.85915493, 0.83098592, 0.83098592,\n",
       "        0.83098592]),\n",
       " 'split4_test_score': array([0.74647887, 0.74647887, 0.74647887, 0.74647887, 0.74647887,\n",
       "        0.74647887, 0.74647887, 0.74647887, 0.74647887, 0.77464789,\n",
       "        0.77464789, 0.77464789, 0.78169014, 0.78169014, 0.78169014,\n",
       "        0.73239437, 0.73239437, 0.73239437, 0.78873239, 0.78169014,\n",
       "        0.78169014, 0.78873239, 0.78873239, 0.78873239, 0.77464789,\n",
       "        0.77464789, 0.77464789, 0.74647887, 0.76760563, 0.76760563,\n",
       "        0.78873239, 0.78873239, 0.78873239, 0.77464789, 0.77464789,\n",
       "        0.77464789]),\n",
       " 'mean_test_score': array([0.75844578, 0.75844578, 0.75844578, 0.75844578, 0.75844578,\n",
       "        0.75844578, 0.75844578, 0.75844578, 0.75844578, 0.79917266,\n",
       "        0.79917266, 0.79917266, 0.79918251, 0.79918251, 0.79918251,\n",
       "        0.7879149 , 0.7879149 , 0.7879149 , 0.78097114, 0.78378804,\n",
       "        0.78520634, 0.7894317 , 0.7894317 , 0.7894317 , 0.7893923 ,\n",
       "        0.7893923 , 0.7893923 , 0.77675564, 0.78239929, 0.78379789,\n",
       "        0.78669359, 0.78669359, 0.78669359, 0.7894317 , 0.7894317 ,\n",
       "        0.7894317 ]),\n",
       " 'std_test_score': array([0.0188983 , 0.0188983 , 0.0188983 , 0.0188983 , 0.0188983 ,\n",
       "        0.0188983 , 0.0188983 , 0.0188983 , 0.0188983 , 0.01849887,\n",
       "        0.01849887, 0.01849887, 0.01727233, 0.01727233, 0.01727233,\n",
       "        0.030375  , 0.030375  , 0.030375  , 0.0279402 , 0.03216607,\n",
       "        0.0361929 , 0.03984297, 0.03984297, 0.03984297, 0.03534383,\n",
       "        0.03534383, 0.03534383, 0.0334988 , 0.03603675, 0.03535641,\n",
       "        0.05627021, 0.05627021, 0.05627021, 0.03787206, 0.03787206,\n",
       "        0.03787206]),\n",
       " 'rank_test_score': array([28, 28, 28, 28, 28, 28, 28, 28, 28,  4,  4,  4,  1,  1,  1, 16, 16,\n",
       "        16, 26, 24, 22,  7,  7,  7, 13, 13, 13, 27, 25, 23, 19, 19, 19,  7,\n",
       "         7,  7])}"
      ]
     },
     "execution_count": 76,
     "metadata": {},
     "output_type": "execute_result"
    }
   ],
   "source": [
    "grid_dclf.cv_results_    # 경우별 점수 볼 수있음 -> 근데 보기 어려워서 데이터프레임 형태로 변형시켜 본다."
   ]
  },
  {
   "cell_type": "code",
   "execution_count": 78,
   "id": "31be8bd1-91ba-489c-85e4-e284ca7ad842",
   "metadata": {},
   "outputs": [
    {
     "data": {
      "text/plain": [
       "{'max_depth': 3, 'min_samples_leaf': 5, 'min_samples_split': 2}"
      ]
     },
     "execution_count": 78,
     "metadata": {},
     "output_type": "execute_result"
    }
   ],
   "source": [
    "grid_dclf.best_params_    # 각각 {'max_depth': 3, 'min_samples_leaf': 5, 'min_samples_split': 2}로 했을 때 best더라"
   ]
  },
  {
   "cell_type": "code",
   "execution_count": 80,
   "id": "287ee9ce-08c8-42cb-ae57-76a506b66f13",
   "metadata": {},
   "outputs": [
    {
     "data": {
      "text/plain": [
       "0.7991825076332119"
      ]
     },
     "execution_count": 80,
     "metadata": {},
     "output_type": "execute_result"
    }
   ],
   "source": [
    "grid_dclf.best_score_    # best score"
   ]
  },
  {
   "cell_type": "code",
   "execution_count": 81,
   "id": "3969b203-a548-42bd-8e0d-c1c726180f04",
   "metadata": {},
   "outputs": [],
   "source": [
    "best_dclf = grid_dclf.best_estimator_    # 제일 좋았던 모델"
   ]
  },
  {
   "cell_type": "code",
   "execution_count": 82,
   "id": "a5712e6b-242d-49c0-9489-11ca60fbacc8",
   "metadata": {},
   "outputs": [],
   "source": [
    "dpred = best_dclf.predict(X_test)"
   ]
  },
  {
   "cell_type": "code",
   "execution_count": 83,
   "id": "ebf1e3f7-1ace-48a6-ab94-af989d54c349",
   "metadata": {},
   "outputs": [
    {
     "data": {
      "text/plain": [
       "0.8715083798882681"
      ]
     },
     "execution_count": 83,
     "metadata": {},
     "output_type": "execute_result"
    }
   ],
   "source": [
    "accuracy_score(y_test,dpred)"
   ]
  },
  {
   "cell_type": "code",
   "execution_count": 84,
   "id": "baef4715-5c1b-45d1-b36c-425699725e8d",
   "metadata": {},
   "outputs": [],
   "source": [
    "# 사이킷런에는 매우 많은 머신러닝 알고리즘 제공, 사용이 쉽다. -> 대표적인 머신러닝 패키지\n",
    "# 머신러닝 : (데이터의 가공 및 변환)전처리작업 -> (학습/테스트 데이터 분리)데이터 세트 분리 작업 -> 모델 학습 -> 테스트데이터 모델로 예측 -> 예측값, 실제값 비교해서 평가\n",
    "# 전처리 : (오류 데이터 보정, null값 처리 등)다양한 데이터 클렌징 작업, (레이블 인코딩, 원-핫 인코딩 등)인코딩 작업, 데이터 스케일링, 정규화 작업  \n",
    "#          => 머신러닝 알고리즘이 최적으로 수행될 수 있게 데이터를 사전 처리 하는 것\n",
    "# 학습데이터와 테스트데이터는 구분되어야 하며, (데이터 분포-치우치거나 건수부족 X)구성이 중요하다."
   ]
  },
  {
   "cell_type": "code",
   "execution_count": 85,
   "id": "7e42564f-4a20-458d-a822-1ff81b914af0",
   "metadata": {},
   "outputs": [],
   "source": [
    "# 평균, 중위값, 분산 등 각각의 의의를 알아야한다.** 계산은 컴퓨터가 해줘여..\n",
    "#                                => 전처리"
   ]
  },
  {
   "cell_type": "code",
   "execution_count": 86,
   "id": "76d861ec-f01f-433a-9dc2-22703ce3ca71",
   "metadata": {},
   "outputs": [],
   "source": [
    "# 머신러닝 : 데이터 가공/변환 - 모델 학습/예측 - 평가\n",
    "# 성능 평가 지표(모델 예측 성능 평가) - 분류/회귀 등 종류에 따라 다름\n",
    "# 정확도, 오차행렬(정밀도,재현율,F1스코어,ROC AUC)\n",
    "# 분류 -> 정확도로 판단 많이 함, 정확도만 봤을 때의 문제 = 이진분류의 경우 한쪽에 치우치면 제대로 평가할 수 없다. -> 오차행렬 이용"
   ]
  },
  {
   "cell_type": "code",
   "execution_count": 87,
   "id": "410a5068-a426-4d3b-b85b-9c9ee73660de",
   "metadata": {},
   "outputs": [],
   "source": [
    "# 성능 지표는 이진/멀티 분류에 모두 적용되지만 이진분류에서 특히 중요\n",
    "# 정확도 = (맞춘 거) / (전체 데이터)"
   ]
  },
  {
   "cell_type": "code",
   "execution_count": 88,
   "id": "524196a7-95f9-4ecc-8316-b120635de8ad",
   "metadata": {},
   "outputs": [],
   "source": [
    "# 사이킷런은 BaseEstimator?를 상속받는다 -> 모델들을 fit하고 predict로 예측가능"
   ]
  },
  {
   "cell_type": "code",
   "execution_count": 89,
   "id": "0f7100d4-8015-4fa7-bc68-147a783e4a1f",
   "metadata": {},
   "outputs": [],
   "source": [
    "# 정확도만 봤을 때의 문제점 확인"
   ]
  },
  {
   "cell_type": "code",
   "execution_count": 91,
   "id": "144b4262-3d6c-4c3d-ac2d-7d5b43213bc6",
   "metadata": {},
   "outputs": [],
   "source": [
    "from sklearn.base import BaseEstimator\n",
    "import numpy as np"
   ]
  },
  {
   "cell_type": "code",
   "execution_count": 92,
   "id": "03c7f877-1dd9-442d-a124-0a80eb8b9d47",
   "metadata": {},
   "outputs": [],
   "source": [
    "class MyDummyClassifier(BaseEstimator):\n",
    "    def fit(self,X,y=None):\n",
    "        pass\n",
    "    \n",
    "    def predict(self,X):\n",
    "        pred=np.zeros((X.shape[0],1))\n",
    "        for i in range(X.shape[0]):\n",
    "            if X['Sex'].iloc[i] == 1:\n",
    "                pred[i]=0\n",
    "            else:\n",
    "                pred[i]=1\n",
    "        return pred\n",
    "# 으려워..\n",
    "\n",
    "# 함수 종합\n",
    "def fillna(df):\n",
    "    df['Age'].fillna(titanic_df['Age'].mean(),inplace=True)\n",
    "    df['Cabin'].fillna('N',inplace=True)\n",
    "    df['Embarked'].fillna('N',inplace=True)\n",
    "    df['Fare'].fillna(0,inplace=True)\n",
    "    return df\n",
    "\n",
    "def drop_features(df):\n",
    "    df.drop(columns=['PassengerId','Name','Ticket'],inplace=True)\n",
    "    return df\n",
    "\n",
    "def format_features(df):\n",
    "    from sklearn.preprocessing import LabelEncoder\n",
    "    df.Cabin = df.Cabin.str[:1]\n",
    "    features = ['Cabin','Sex','Embarked']\n",
    "    for feature in features:\n",
    "        df[feature] = LabelEncoder().fit_transform(df[feature])    # fit에 넣어주는 값과 transform에 넣어주는 값이 같으므로 fit_transform 사용가능\n",
    "    return df\n",
    "\n",
    "def transform_features(df):\n",
    "    df = fillna(df)\n",
    "    df = drop_features(df)\n",
    "    df = format_features(df)\n",
    "    return df"
   ]
  },
  {
   "cell_type": "code",
   "execution_count": 93,
   "id": "b887006b-40de-40b6-a7f0-cc3bf657b26d",
   "metadata": {},
   "outputs": [],
   "source": [
    "import pandas as pd\n",
    "from sklearn.model_selection import train_test_split\n",
    "from sklearn.metrics import accuracy_score"
   ]
  },
  {
   "cell_type": "code",
   "execution_count": 94,
   "id": "237b536d-7b33-4b1d-b90b-e57334e2f4ee",
   "metadata": {},
   "outputs": [
    {
     "data": {
      "text/plain": [
       "0.7877094972067039"
      ]
     },
     "execution_count": 94,
     "metadata": {},
     "output_type": "execute_result"
    }
   ],
   "source": [
    "titanic_df = pd.read_csv(\"titanic_train.csv\")    # 데이터 가져오기\n",
    "y_titanic_df = titanic_df['Survived']            # X,y 분리\n",
    "X_titanic_df = titanic_df.drop(columns=['Survived'])\n",
    "X_titanic_df = transform_features(X_titanic_df)\n",
    "X_train,X_test,y_train,y_test = train_test_split(X_titanic_df,\n",
    "                                                 y_titanic_df,\n",
    "                                                 test_size=0.2,\n",
    "                                                 random_state=0)\n",
    "myclf = MyDummyClassifier()\n",
    "myclf.fit(X_train,y_train)\n",
    "pred = myclf.predict(X_test)\n",
    "accuracy_score(y_test,pred)"
   ]
  },
  {
   "cell_type": "code",
   "execution_count": 95,
   "id": "a90b7057-6591-49e6-ac22-de44f79dc340",
   "metadata": {},
   "outputs": [],
   "source": [
    "# 뭐안했는데? 정확도가 0.7877094972067039  == 정확도만 믿을 수는 없다."
   ]
  },
  {
   "cell_type": "code",
   "execution_count": 96,
   "id": "8254f8c7-c57c-4468-9e43-e518b984717f",
   "metadata": {},
   "outputs": [],
   "source": [
    "# 그래서 오차행렬을 쓴다.\n",
    "from sklearn.datasets import load_digits\n",
    "# 전처리, numpy, pandas 등 다 위에 해서 생략"
   ]
  },
  {
   "cell_type": "code",
   "execution_count": 97,
   "id": "2ab15ea6-5c87-4390-a23a-05c80d837926",
   "metadata": {},
   "outputs": [],
   "source": [
    "class MyFakeClassifier(BaseEstimator):\n",
    "    def fit(self,X,y):\n",
    "        pass\n",
    "    def predict(self,X):\n",
    "        return np.zeros((len(X),1),dtype=bool)"
   ]
  },
  {
   "cell_type": "code",
   "execution_count": 101,
   "id": "fe795ea6-876b-4695-866b-be17bb8d4692",
   "metadata": {},
   "outputs": [
    {
     "data": {
      "text/plain": [
       "((450,),\n",
       " 0    405\n",
       " 1     45\n",
       " dtype: int64)"
      ]
     },
     "execution_count": 101,
     "metadata": {},
     "output_type": "execute_result"
    }
   ],
   "source": [
    "digits = load_digits()\n",
    "y = (digits.target == 7).astype(int)\n",
    "X_train,X_test,y_train,y_test = train_test_split(digits.data,y, random_state=11)\n",
    "y_test.shape,pd.Series(y_test).value_counts()"
   ]
  },
  {
   "cell_type": "code",
   "execution_count": 102,
   "id": "398506fb-810d-4114-b5da-39a9607633fb",
   "metadata": {},
   "outputs": [
    {
     "data": {
      "text/plain": [
       "0.9"
      ]
     },
     "execution_count": 102,
     "metadata": {},
     "output_type": "execute_result"
    }
   ],
   "source": [
    "fakeclf = MyFakeClassifier()\n",
    "fakeclf.fit(X_train,y_train)\n",
    "pred = fakeclf.predict(X_test)\n",
    "accuracy_score(y_test,pred)"
   ]
  },
  {
   "cell_type": "code",
   "execution_count": 103,
   "id": "a267fc0e-de83-4544-8b2c-40850da6d47b",
   "metadata": {},
   "outputs": [],
   "source": [
    "# 또 한 것도 없는데 정확도 0.9"
   ]
  }
 ],
 "metadata": {
  "kernelspec": {
   "display_name": "Python 3 (ipykernel)",
   "language": "python",
   "name": "python3"
  },
  "language_info": {
   "codemirror_mode": {
    "name": "ipython",
    "version": 3
   },
   "file_extension": ".py",
   "mimetype": "text/x-python",
   "name": "python",
   "nbconvert_exporter": "python",
   "pygments_lexer": "ipython3",
   "version": "3.9.7"
  }
 },
 "nbformat": 4,
 "nbformat_minor": 5
}
