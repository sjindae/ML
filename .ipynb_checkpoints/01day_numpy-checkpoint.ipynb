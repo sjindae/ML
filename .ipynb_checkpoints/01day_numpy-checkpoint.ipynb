{
 "cells": [
  {
   "cell_type": "code",
   "execution_count": null,
   "id": "2c10875c-05e4-477a-b796-91980312a0c1",
   "metadata": {},
   "outputs": [],
   "source": [
    "# numpy 사이트 구경 -> 현재 버전 : 1.22.0"
   ]
  },
  {
   "cell_type": "code",
   "execution_count": null,
   "id": "e9e7bb52-f7e9-48c7-afef-fa1171db8b36",
   "metadata": {},
   "outputs": [],
   "source": [
    "# 다차원 처리에 특화되어 있음"
   ]
  },
  {
   "cell_type": "code",
   "execution_count": null,
   "id": "da10f107-5430-4bc9-acd8-c5721d25f594",
   "metadata": {},
   "outputs": [],
   "source": [
    "# 줌잇? 뭐 안함"
   ]
  },
  {
   "cell_type": "code",
   "execution_count": null,
   "id": "6d4486d7-86a6-42ee-addd-b3bbade35d49",
   "metadata": {},
   "outputs": [],
   "source": []
  }
 ],
 "metadata": {
  "kernelspec": {
   "display_name": "Python 3 (ipykernel)",
   "language": "python",
   "name": "python3"
  },
  "language_info": {
   "codemirror_mode": {
    "name": "ipython",
    "version": 3
   },
   "file_extension": ".py",
   "mimetype": "text/x-python",
   "name": "python",
   "nbconvert_exporter": "python",
   "pygments_lexer": "ipython3",
   "version": "3.9.7"
  }
 },
 "nbformat": 4,
 "nbformat_minor": 5
}
