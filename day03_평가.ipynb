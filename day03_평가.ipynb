{
 "cells": [
  {
   "cell_type": "code",
   "execution_count": 1,
   "id": "d68dc037-ab12-4343-bcad-5d6bcd14e6c3",
   "metadata": {},
   "outputs": [],
   "source": [
    "# day02파일에 적음..ㅠ"
   ]
  },
  {
   "cell_type": "code",
   "execution_count": null,
   "id": "2e3e40b5-dadd-499f-abb2-f898d6000f54",
   "metadata": {},
   "outputs": [],
   "source": []
  },
  {
   "cell_type": "code",
   "execution_count": 105,
   "id": "78ba85aa-d53c-4875-a2ed-fca964c8b687",
   "metadata": {},
   "outputs": [],
   "source": [
    "# 오차행렬을 보자!  -- 이진분류에서 성능 지표로 (정확도보다)잘 활용됨."
   ]
  },
  {
   "cell_type": "code",
   "execution_count": null,
   "id": "47361542-c253-421e-a6ac-ce20ff328a3c",
   "metadata": {},
   "outputs": [],
   "source": [
    "## 혼동행렬 그림"
   ]
  },
  {
   "cell_type": "markdown",
   "id": "b538c5dc-9c3d-4ef0-8a55-cebcb94d938a",
   "metadata": {},
   "source": [
    "![](conf_mat.png)"
   ]
  },
  {
   "cell_type": "code",
   "execution_count": 106,
   "id": "38b25979-d256-452d-a6fd-18cb71185010",
   "metadata": {},
   "outputs": [],
   "source": [
    "from sklearn.metrics import confusion_matrix"
   ]
  },
  {
   "cell_type": "code",
   "execution_count": 107,
   "id": "7111223d-a4b0-4664-97ec-cb0185d43e8e",
   "metadata": {},
   "outputs": [
    {
     "data": {
      "text/plain": [
       "array([[405,   0],\n",
       "       [ 45,   0]], dtype=int64)"
      ]
     },
     "execution_count": 107,
     "metadata": {},
     "output_type": "execute_result"
    }
   ],
   "source": [
    "confusion_matrix(y_test,pred)"
   ]
  },
  {
   "cell_type": "code",
   "execution_count": 109,
   "id": "2130f6e1-2881-4478-9056-17c9061bfd4f",
   "metadata": {},
   "outputs": [],
   "source": [
    "# 정밀도 = (맞춘 positive(1)) / (총 예측 positive(1))\n",
    "# 재현율 = (맞춘 1) / (원래 1)  ????\n",
    "\n",
    "# 어느 값이 특별히 높은 것보다 균형있게 높은 것이 좋다.\n",
    "# 재현율(민감도, TPR**)이 중요한 지표의 경우 : 실제 positive양성 데이터를 Negative로 판단하게 되면 업무상 큰 영향이 발생하는 경우    \n",
    "#                              ex) 암 판단 모델: 암인데 암아니라하면 오류의 대가가 더 큼. 암아닌데 암이라 하면 재검사하면 됨\n",
    "# 정밀도가 더 중요한 지표인 경우 : \n",
    "#                              ex) 스펨메일 여부 판단 모델: 일반 메일을 잘못분류하면 못받게 된다..-> 영향이 큼"
   ]
  },
  {
   "cell_type": "markdown",
   "id": "a7c24195-77ac-4ab3-bd2e-da834677ca84",
   "metadata": {},
   "source": [
    "![](pre_re.png)"
   ]
  },
  {
   "cell_type": "code",
   "execution_count": 110,
   "id": "e97ae5e9-3b54-4299-99ef-21612ac72110",
   "metadata": {},
   "outputs": [],
   "source": [
    "from sklearn.metrics import accuracy_score,precision_score,recall_score,consensus_score"
   ]
  },
  {
   "cell_type": "code",
   "execution_count": 115,
   "id": "003e01cd-2cd6-46d8-b5ad-799e1e153364",
   "metadata": {},
   "outputs": [],
   "source": [
    "# 오차행렬의 정확도, 정밀도, 재현율 구해줌\n",
    "def get_clf_eval(y_test,pred):\n",
    "    confusion = confusion_matrix(y_test,pred)\n",
    "    accuracy = accuracy_score(y_test,pred)\n",
    "    precision = precision_score(y_test,pred)\n",
    "    recall = recall_score(y_test,pred)\n",
    "    print('오차행렬')\n",
    "    print(confusion)\n",
    "    print(f'정확도 : {accuracy:.4f}, 정밀도 : {precision:.4f}, 재현율 : {recall:.4f}')"
   ]
  },
  {
   "cell_type": "code",
   "execution_count": 116,
   "id": "89d27e70-57ea-4a78-b4be-85795f9d5a67",
   "metadata": {},
   "outputs": [],
   "source": [
    "titanic_df = pd.read_csv(\"titanic_train.csv\")    # 데이터 가져오기\n",
    "y_titanic_df = titanic_df['Survived']            # X,y 분리\n",
    "X_titanic_df = titanic_df.drop(columns=['Survived'])\n",
    "X_titanic_df = transform_features(X_titanic_df)\n",
    "X_train,X_test,y_train,y_test = train_test_split(X_titanic_df,\n",
    "                                                 y_titanic_df,\n",
    "                                                 test_size=0.2,\n",
    "                                                 random_state=0)"
   ]
  },
  {
   "cell_type": "code",
   "execution_count": 121,
   "id": "8b9ce32b-1149-4639-b24d-6a6e3caeda7b",
   "metadata": {},
   "outputs": [
    {
     "name": "stdout",
     "output_type": "stream",
     "text": [
      "오차행렬\n",
      "[[92 18]\n",
      " [16 53]]\n",
      "정확도 : 0.8101, 정밀도 : 0.7465, 재현율 : 0.7681\n"
     ]
    }
   ],
   "source": [
    "# from sklearn.linear_model import LogisticRegression\n",
    "# import warnings\n",
    "# warnings.filterwarnings('ignore')\n",
    "lr_clf = LogisticRegression()\n",
    "lr_clf.fit(X_train,y_train)\n",
    "pred = lr_clf.predict(X_test)\n",
    "get_clf_eval(y_test,pred)"
   ]
  },
  {
   "cell_type": "code",
   "execution_count": 122,
   "id": "23123a2a-15bb-4d5c-84e6-e58b4a5561e3",
   "metadata": {},
   "outputs": [],
   "source": [
    "# 정밀도, 재현율의 트레이드오프 : 하나를 강제로 높이면 다른 하나의 수치는 떨어지기 쉽다.(두 값이 겹치는 부분이 있는데, 반드시 중앙에서 만나는 것은 아님)\n",
    "#                              => 봐가면서 조절해 보자"
   ]
  },
  {
   "cell_type": "code",
   "execution_count": 124,
   "id": "1995eb04-aa54-4b55-a832-689f70199c50",
   "metadata": {},
   "outputs": [
    {
     "data": {
      "text/plain": [
       "(array([[0.85143272, 0.14856728],\n",
       "        [0.89230123, 0.10769877],\n",
       "        [0.93333601, 0.06666399],\n",
       "        [0.05347494, 0.94652506],\n",
       "        [0.3139637 , 0.6860363 ],\n",
       "        [0.4899739 , 0.5100261 ],\n",
       "        [0.08208226, 0.91791774]]),\n",
       " array([0, 0, 0, 1, 1, 1, 1], dtype=int64))"
      ]
     },
     "execution_count": 124,
     "metadata": {},
     "output_type": "execute_result"
    }
   ],
   "source": [
    "pred_proba = lr_clf.predict_proba(X_test)    # 확률예측      # pred_proba 앞은 0일 확률, 뒤는 1일 확률 - 뒤만 보면 된다.\n",
    "pred = lr_clf.predict(X_test)\n",
    "pred_proba[:7],pred[:7]"
   ]
  },
  {
   "cell_type": "code",
   "execution_count": 125,
   "id": "7b413de7-63e2-456c-8c05-41344004e61f",
   "metadata": {},
   "outputs": [],
   "source": [
    "from sklearn.preprocessing import Binarizer"
   ]
  },
  {
   "cell_type": "code",
   "execution_count": 126,
   "id": "e7748215-e715-4618-8ef5-b49917148957",
   "metadata": {},
   "outputs": [],
   "source": [
    "X = [[1,-1,2],\n",
    "     [2,0,0],\n",
    "     [0,1.1,1.2]]"
   ]
  },
  {
   "cell_type": "code",
   "execution_count": 128,
   "id": "58f92cc7-2532-485b-94e3-b8c415dd0157",
   "metadata": {},
   "outputs": [
    {
     "data": {
      "text/plain": [
       "array([[0., 0., 1.],\n",
       "       [1., 0., 0.],\n",
       "       [0., 0., 1.]])"
      ]
     },
     "execution_count": 128,
     "metadata": {},
     "output_type": "execute_result"
    }
   ],
   "source": [
    "binarizer = Binarizer(threshold=1.1)\n",
    "binarizer.fit_transform(X)\n",
    "# threshold=0.0결과\n",
    "# array([[1., 0., 1.],\n",
    "#        [1., 0., 0.],\n",
    "#        [0., 1., 1.]])"
   ]
  },
  {
   "cell_type": "code",
   "execution_count": 133,
   "id": "3ef94f82-3432-4251-9aed-d309ae597066",
   "metadata": {},
   "outputs": [
    {
     "name": "stdout",
     "output_type": "stream",
     "text": [
      "오차행렬\n",
      "[[99 11]\n",
      " [25 44]]\n",
      "정확도 : 0.7989, 정밀도 : 0.8000, 재현율 : 0.6377\n"
     ]
    }
   ],
   "source": [
    "custom_threshold=0.6    # 0.5보다 정밀도 올라가고, 재현율 떨어짐\n",
    "pred_proba_1 = pred_proba[:,1].reshape(-1,1)    # 행 전부, 두번째 열  //  reshape(-1,1) : 행은 데이터개수만큼 알아서, 열은 1개씩.이라는 뜻이래..\n",
    "binarizer = Binarizer(threshold=custom_threshold).fit(pred_proba_1)\n",
    "custom_predict = binarizer.transform(pred_proba_1)\n",
    "get_clf_eval(y_test,custom_predict)\n",
    "# custom_threshold=0.4    # 0.5보다 재현율 올라가고, 정밀도 떨어짐\n",
    "# 오차행렬\n",
    "# [[86 24]\n",
    "#  [13 56]]\n",
    "# 정확도 : 0.7933, 정밀도 : 0.7000, 재현율 : 0.8116\n",
    "\n",
    "# custom_threshold=0.5 결과\n",
    "# 오차행렬\n",
    "# [[92 18]\n",
    "#  [16 53]]\n",
    "# 정확도 : 0.8101, 정밀도 : 0.7465, 재현율 : 0.7681\n",
    "\n",
    "# 경계선에 있던 애들이 threshold때문에  0이 되기도 1이 되기도 하기 때문에 정밀도/재현율 변하는 것"
   ]
  },
  {
   "cell_type": "code",
   "execution_count": 136,
   "id": "fa96e1e0-c43d-4d53-8ef6-c8e97b772666",
   "metadata": {},
   "outputs": [],
   "source": [
    "thresholds = [0.4,0.45,0.5,0.55,0.6]\n",
    "def get_eval_by_threshold(y_test,pred_proba_c1,thresholds):\n",
    "    for custom_threshold in thresholds:\n",
    "        binarizer = Binarizer(threshold=custom_threshold).fit(pred_proba_c1)\n",
    "        custom_predict = binarizer.transform(pred_proba_1)\n",
    "        print('-'*20)\n",
    "        print('임곗값:',custom_threshold)\n",
    "        get_clf_eval(y_test,custom_predict)    # 평가"
   ]
  },
  {
   "cell_type": "code",
   "execution_count": 137,
   "id": "dd03b865-1160-4029-bb9e-1575b2a102d9",
   "metadata": {},
   "outputs": [
    {
     "name": "stdout",
     "output_type": "stream",
     "text": [
      "--------------------\n",
      "임곗값: 0.4\n",
      "오차행렬\n",
      "[[86 24]\n",
      " [13 56]]\n",
      "정확도 : 0.7933, 정밀도 : 0.7000, 재현율 : 0.8116\n",
      "--------------------\n",
      "임곗값: 0.45\n",
      "오차행렬\n",
      "[[91 19]\n",
      " [14 55]]\n",
      "정확도 : 0.8156, 정밀도 : 0.7432, 재현율 : 0.7971\n",
      "--------------------\n",
      "임곗값: 0.5\n",
      "오차행렬\n",
      "[[92 18]\n",
      " [16 53]]\n",
      "정확도 : 0.8101, 정밀도 : 0.7465, 재현율 : 0.7681\n",
      "--------------------\n",
      "임곗값: 0.55\n",
      "오차행렬\n",
      "[[97 13]\n",
      " [18 51]]\n",
      "정확도 : 0.8268, 정밀도 : 0.7969, 재현율 : 0.7391\n",
      "--------------------\n",
      "임곗값: 0.6\n",
      "오차행렬\n",
      "[[99 11]\n",
      " [25 44]]\n",
      "정확도 : 0.7989, 정밀도 : 0.8000, 재현율 : 0.6377\n"
     ]
    }
   ],
   "source": [
    "get_eval_by_threshold(y_test,pred_proba[:,1].reshape(-1,1),thresholds)    # 정밀도는 오르고 재현율은 떨어지는 것을 확인할 수 있다."
   ]
  },
  {
   "cell_type": "code",
   "execution_count": 138,
   "id": "efd5051d-e5cf-4e30-b786-919ce2b6f9ec",
   "metadata": {},
   "outputs": [],
   "source": [
    "# 정밀도와 재현율의 변화\n",
    "from sklearn.metrics import precision_recall_curve"
   ]
  },
  {
   "cell_type": "code",
   "execution_count": 139,
   "id": "24290cdd-fc6b-442b-86ed-cceea6ec02de",
   "metadata": {},
   "outputs": [],
   "source": [
    "pred_proba_class1 = lr_clf.predict_proba(X_test)[:,1]"
   ]
  },
  {
   "cell_type": "code",
   "execution_count": 142,
   "id": "4dab3f9c-7234-4739-ba48-0af5e868afa4",
   "metadata": {},
   "outputs": [
    {
     "data": {
      "text/plain": [
       "(array([0.39884393, 0.39534884, 0.39766082, 0.4       , 0.40236686,\n",
       "        0.39880952, 0.4011976 , 0.40361446, 0.40606061, 0.40853659,\n",
       "        0.41104294, 0.41358025, 0.41614907, 0.4125    , 0.41509434,\n",
       "        0.41772152, 0.42038217, 0.42307692, 0.42580645, 0.42207792,\n",
       "        0.4248366 , 0.42763158, 0.43046358, 0.43918919, 0.44827586,\n",
       "        0.45138889, 0.45774648, 0.46099291, 0.46428571, 0.4676259 ,\n",
       "        0.46376812, 0.46715328, 0.47058824, 0.47407407, 0.47761194,\n",
       "        0.48120301, 0.48484848, 0.48854962, 0.49230769, 0.49612403,\n",
       "        0.5       , 0.50393701, 0.50793651, 0.512     , 0.51612903,\n",
       "        0.5203252 , 0.52459016, 0.52892562, 0.53781513, 0.54237288,\n",
       "        0.53846154, 0.54310345, 0.55263158, 0.55752212, 0.5625    ,\n",
       "        0.56756757, 0.57272727, 0.57798165, 0.58333333, 0.58878505,\n",
       "        0.59433962, 0.6       , 0.60576923, 0.61165049, 0.61764706,\n",
       "        0.61386139, 0.61      , 0.61616162, 0.62244898, 0.62886598,\n",
       "        0.63541667, 0.64210526, 0.64893617, 0.64516129, 0.65217391,\n",
       "        0.65934066, 0.66666667, 0.6741573 , 0.67045455, 0.67816092,\n",
       "        0.6744186 , 0.68235294, 0.69047619, 0.69879518, 0.69512195,\n",
       "        0.69135802, 0.7       , 0.69620253, 0.70512821, 0.71428571,\n",
       "        0.72368421, 0.73333333, 0.74324324, 0.75342466, 0.75      ,\n",
       "        0.74647887, 0.74285714, 0.73913043, 0.75      , 0.76119403,\n",
       "        0.77272727, 0.78461538, 0.796875  , 0.80952381, 0.80645161,\n",
       "        0.80327869, 0.81666667, 0.81355932, 0.81034483, 0.80701754,\n",
       "        0.80357143, 0.8       , 0.81481481, 0.81132075, 0.80769231,\n",
       "        0.80392157, 0.82      , 0.81632653, 0.83333333, 0.82978723,\n",
       "        0.82608696, 0.84444444, 0.86363636, 0.88372093, 0.88095238,\n",
       "        0.87804878, 0.9       , 0.8974359 , 0.89473684, 0.91891892,\n",
       "        0.94444444, 0.97142857, 1.        , 1.        , 1.        ,\n",
       "        1.        , 1.        , 1.        , 1.        , 1.        ,\n",
       "        1.        , 1.        , 1.        , 1.        , 1.        ,\n",
       "        1.        , 1.        , 1.        , 1.        , 1.        ,\n",
       "        1.        , 1.        , 1.        , 1.        , 1.        ,\n",
       "        1.        , 1.        , 1.        , 1.        , 1.        ,\n",
       "        1.        , 1.        , 1.        , 1.        , 1.        ,\n",
       "        1.        , 1.        ]),\n",
       " array([1.        , 0.98550725, 0.98550725, 0.98550725, 0.98550725,\n",
       "        0.97101449, 0.97101449, 0.97101449, 0.97101449, 0.97101449,\n",
       "        0.97101449, 0.97101449, 0.97101449, 0.95652174, 0.95652174,\n",
       "        0.95652174, 0.95652174, 0.95652174, 0.95652174, 0.94202899,\n",
       "        0.94202899, 0.94202899, 0.94202899, 0.94202899, 0.94202899,\n",
       "        0.94202899, 0.94202899, 0.94202899, 0.94202899, 0.94202899,\n",
       "        0.92753623, 0.92753623, 0.92753623, 0.92753623, 0.92753623,\n",
       "        0.92753623, 0.92753623, 0.92753623, 0.92753623, 0.92753623,\n",
       "        0.92753623, 0.92753623, 0.92753623, 0.92753623, 0.92753623,\n",
       "        0.92753623, 0.92753623, 0.92753623, 0.92753623, 0.92753623,\n",
       "        0.91304348, 0.91304348, 0.91304348, 0.91304348, 0.91304348,\n",
       "        0.91304348, 0.91304348, 0.91304348, 0.91304348, 0.91304348,\n",
       "        0.91304348, 0.91304348, 0.91304348, 0.91304348, 0.91304348,\n",
       "        0.89855072, 0.88405797, 0.88405797, 0.88405797, 0.88405797,\n",
       "        0.88405797, 0.88405797, 0.88405797, 0.86956522, 0.86956522,\n",
       "        0.86956522, 0.86956522, 0.86956522, 0.85507246, 0.85507246,\n",
       "        0.84057971, 0.84057971, 0.84057971, 0.84057971, 0.82608696,\n",
       "        0.8115942 , 0.8115942 , 0.79710145, 0.79710145, 0.79710145,\n",
       "        0.79710145, 0.79710145, 0.79710145, 0.79710145, 0.7826087 ,\n",
       "        0.76811594, 0.75362319, 0.73913043, 0.73913043, 0.73913043,\n",
       "        0.73913043, 0.73913043, 0.73913043, 0.73913043, 0.72463768,\n",
       "        0.71014493, 0.71014493, 0.69565217, 0.68115942, 0.66666667,\n",
       "        0.65217391, 0.63768116, 0.63768116, 0.62318841, 0.60869565,\n",
       "        0.5942029 , 0.5942029 , 0.57971014, 0.57971014, 0.56521739,\n",
       "        0.55072464, 0.55072464, 0.55072464, 0.55072464, 0.53623188,\n",
       "        0.52173913, 0.52173913, 0.50724638, 0.49275362, 0.49275362,\n",
       "        0.49275362, 0.49275362, 0.49275362, 0.47826087, 0.46376812,\n",
       "        0.44927536, 0.43478261, 0.42028986, 0.4057971 , 0.39130435,\n",
       "        0.37681159, 0.36231884, 0.34782609, 0.33333333, 0.31884058,\n",
       "        0.30434783, 0.28985507, 0.27536232, 0.26086957, 0.24637681,\n",
       "        0.23188406, 0.2173913 , 0.20289855, 0.1884058 , 0.17391304,\n",
       "        0.15942029, 0.14492754, 0.13043478, 0.11594203, 0.10144928,\n",
       "        0.08695652, 0.07246377, 0.05797101, 0.04347826, 0.02898551,\n",
       "        0.01449275, 0.        ]),\n",
       " array([0.0593898 , 0.06360268, 0.06666399, 0.06769606, 0.06948779,\n",
       "        0.0711917 , 0.07189015, 0.07727503, 0.08397639, 0.0857857 ,\n",
       "        0.08710614, 0.08768307, 0.09058621, 0.09101043, 0.09490297,\n",
       "        0.09580243, 0.09857512, 0.10051056, 0.10488116, 0.10740416,\n",
       "        0.10765783, 0.10769877, 0.10774598, 0.10776703, 0.10785071,\n",
       "        0.10865109, 0.10970337, 0.11066076, 0.11122094, 0.11456413,\n",
       "        0.11522438, 0.1197701 , 0.11977197, 0.11987808, 0.12868761,\n",
       "        0.13051595, 0.13128563, 0.13206042, 0.133738  , 0.13880425,\n",
       "        0.13903715, 0.14314286, 0.14402756, 0.14727237, 0.14727312,\n",
       "        0.14795788, 0.14856728, 0.14946977, 0.15514705, 0.15723555,\n",
       "        0.16018122, 0.16073471, 0.16076426, 0.16804021, 0.16922539,\n",
       "        0.17114975, 0.17286323, 0.17456789, 0.17787838, 0.17892859,\n",
       "        0.19118416, 0.19399345, 0.20221001, 0.20458462, 0.20783023,\n",
       "        0.22347022, 0.22844443, 0.22941434, 0.23643575, 0.23673001,\n",
       "        0.24435331, 0.24500956, 0.24728276, 0.2606206 , 0.26971127,\n",
       "        0.28107578, 0.28702547, 0.28835265, 0.30217363, 0.31301742,\n",
       "        0.3184194 , 0.33259487, 0.33919914, 0.35766599, 0.36218608,\n",
       "        0.37740387, 0.40720036, 0.4114215 , 0.4121864 , 0.42384209,\n",
       "        0.43026902, 0.43413227, 0.46126984, 0.46260144, 0.49455856,\n",
       "        0.5100261 , 0.51180069, 0.51448474, 0.52646892, 0.52952629,\n",
       "        0.53892859, 0.54103587, 0.55413054, 0.56430642, 0.56590514,\n",
       "        0.57047278, 0.58313476, 0.58752389, 0.58924945, 0.5967015 ,\n",
       "        0.59814558, 0.60348065, 0.62322382, 0.62708371, 0.62790081,\n",
       "        0.62946135, 0.6314194 , 0.63543591, 0.63792228, 0.64553514,\n",
       "        0.65013455, 0.65680105, 0.6849712 , 0.6860363 , 0.70294547,\n",
       "        0.70356423, 0.7083764 , 0.73125018, 0.73576278, 0.75986874,\n",
       "        0.76030022, 0.76965508, 0.78397364, 0.78822016, 0.79171854,\n",
       "        0.79873328, 0.81357637, 0.82020797, 0.82028127, 0.82425267,\n",
       "        0.8309462 , 0.83296355, 0.83304375, 0.85620456, 0.89074864,\n",
       "        0.89431516, 0.8961616 , 0.89924695, 0.90845641, 0.91275372,\n",
       "        0.91291655, 0.91298732, 0.91791774, 0.92075032, 0.92151865,\n",
       "        0.92317633, 0.9338848 , 0.93530338, 0.94554725, 0.94652506,\n",
       "        0.94693726, 0.95258095, 0.95542585, 0.96103814, 0.96652816,\n",
       "        0.96868318]))"
      ]
     },
     "execution_count": 142,
     "metadata": {},
     "output_type": "execute_result"
    }
   ],
   "source": [
    "precision_recall_curve(y_test,pred_proba_class1)    # 튜플 안에 array형태로 3개 들어가 있음(높아지는 거:정밀도, 낮아지는거:재현율, ?)"
   ]
  },
  {
   "cell_type": "code",
   "execution_count": 143,
   "id": "c8778d12-a724-4cf3-8dec-151710b7a6ae",
   "metadata": {},
   "outputs": [],
   "source": [
    "precision,recall,thresholds = precision_recall_curve(y_test,pred_proba_class1)"
   ]
  },
  {
   "cell_type": "code",
   "execution_count": 144,
   "id": "ce579948-8bee-419f-8911-bf8650bb2a4e",
   "metadata": {},
   "outputs": [
    {
     "data": {
      "text/plain": [
       "((167,), (167,), (166,))"
      ]
     },
     "execution_count": 144,
     "metadata": {},
     "output_type": "execute_result"
    }
   ],
   "source": [
    "precision.shape,recall.shape,thresholds.shape"
   ]
  },
  {
   "cell_type": "code",
   "execution_count": 146,
   "id": "6f950943-f0bd-4be2-801d-5fcb6d1b8f25",
   "metadata": {},
   "outputs": [
    {
     "data": {
      "text/plain": [
       "array([  0,  15,  30,  45,  60,  75,  90, 105, 120, 135, 150, 165])"
      ]
     },
     "execution_count": 146,
     "metadata": {},
     "output_type": "execute_result"
    }
   ],
   "source": [
    "# 데이터 167개, thresholds는 166개 - 1개 차이나네\n",
    "# 반환된 임계값 배열 로우가 167건이므로 샘플로 12건만 추출하되, 임곗값을 15step으로 추출\n",
    "thr_index = np.arange(0,thresholds.shape[0],15)\n",
    "thr_index"
   ]
  },
  {
   "cell_type": "code",
   "execution_count": 148,
   "id": "b7b611e4-55b2-42b6-bf9d-cb6216160c4b",
   "metadata": {},
   "outputs": [
    {
     "name": "stdout",
     "output_type": "stream",
     "text": [
      "[0.399 0.418 0.464 0.52  0.594 0.659 0.724 0.803 0.826 1.    1.    1.   ]\n",
      "[1.    0.957 0.928 0.928 0.913 0.87  0.797 0.71  0.551 0.449 0.232 0.014]\n"
     ]
    }
   ],
   "source": [
    "print(np.round(precision[thr_index],3))\n",
    "print(np.round(recall[thr_index],3))"
   ]
  },
  {
   "cell_type": "code",
   "execution_count": 149,
   "id": "a6160b51-43a2-452d-8cd3-56c666da6d74",
   "metadata": {},
   "outputs": [],
   "source": [
    "import matplotlib.pyplot as plt\n",
    "import matplotlib.ticker as kicker"
   ]
  },
  {
   "cell_type": "code",
   "execution_count": 154,
   "id": "f40a30b2-ce30-4eec-9667-dfdf8c88a3c9",
   "metadata": {},
   "outputs": [],
   "source": [
    "def precision_recall_curve_plot(y_test,pred_proba):\n",
    "    precisions,recalls,thresholds = precision_recall_curve(y_test,pred_proba)\n",
    "    plt.figure(figsize=(8,6))\n",
    "    threshold_boundary = thresholds.shape[0]    # 166\n",
    "    plt.plot(thresholds,precisions[0:threshold_boundary],linestyle='--',label='precision')\n",
    "    plt.plot(thresholds,recalls[0:threshold_boundary],label='recall')\n",
    "    start,end = plt.xlim()\n",
    "    plt.xticks(np.round(np.arange(start,end,0.1),2))    # plt.xlim의 start부터 end까지 0.1간격으로 소수둘째자리 반올림\n",
    "    plt.legend()\n",
    "    plt.grid()\n",
    "    plt.show()"
   ]
  },
  {
   "cell_type": "code",
   "execution_count": 156,
   "id": "5abda890-1477-4772-9963-8e0ac9f314d1",
   "metadata": {},
   "outputs": [
    {
     "data": {
      "image/png": "[encoded data removed]",
      "text/plain": [
       "<Figure size 576x432 with 1 Axes>"
      ]
     },
     "metadata": {
      "needs_background": "light"
     },
     "output_type": "display_data"
    }
   ],
   "source": [
    "precision_recall_curve_plot(y_test,pred_proba_class1)    # 임곗값(정밀도와 재현율이 비슷)이 0.51지점인 것을 확인"
   ]
  },
  {
   "cell_type": "code",
   "execution_count": 157,
   "id": "03fc57a6-f988-471e-a4fb-1753b9cc7941",
   "metadata": {},
   "outputs": [],
   "source": [
    "#!!!! 정밀도와 재현율의 맹점\n",
    "# 하나는 떨어지고 하나는 높아지기 때문에 하나만 높일 수가 없다. = balance를 이루는게 가장 좋다.\n",
    "# => F1스코어(정밀도와 재현율을 결합한 지표) - 어느 한쪽으로 치우치지 않을 때 높은 값을 가진다."
   ]
  },
  {
   "cell_type": "code",
   "execution_count": 158,
   "id": "ea600163-b00b-47d1-996f-19ff2d34c494",
   "metadata": {},
   "outputs": [],
   "source": [
    "from sklearn.metrics import f1_score"
   ]
  },
  {
   "cell_type": "code",
   "execution_count": 159,
   "id": "3fea0d2a-5177-4f5a-8a1e-3102aa734647",
   "metadata": {},
   "outputs": [
    {
     "data": {
      "text/plain": [
       "0.7571428571428571"
      ]
     },
     "execution_count": 159,
     "metadata": {},
     "output_type": "execute_result"
    }
   ],
   "source": [
    "f1 = f1_score(y_test,pred)\n",
    "f1"
   ]
  },
  {
   "cell_type": "code",
   "execution_count": 160,
   "id": "99deff78-d368-4e64-bfcd-ef0a8889a0d5",
   "metadata": {},
   "outputs": [],
   "source": [
    "# 오차행렬의 정확도, 정밀도, 재현율 구해줌\n",
    "def get_clf_eval(y_test,pred):\n",
    "    confusion = confusion_matrix(y_test,pred)\n",
    "    accuracy = accuracy_score(y_test,pred)\n",
    "    precision = precision_score(y_test,pred)\n",
    "    recall = recall_score(y_test,pred)\n",
    "    f1 = f1_score(y_test,pred)\n",
    "    print('오차행렬')\n",
    "    print(confusion)\n",
    "    print(f'정확도 : {accuracy:.4f}, 정밀도 : {precision:.4f}, 재현율 : {recall:.4f}, F1 : {f1:.4f}')"
   ]
  },
  {
   "cell_type": "code",
   "execution_count": 162,
   "id": "725f61fd-d4eb-4556-bbca-cae36bcaa429",
   "metadata": {},
   "outputs": [
    {
     "name": "stdout",
     "output_type": "stream",
     "text": [
      "--------------------\n",
      "임곗값: 0.4\n",
      "오차행렬\n",
      "[[86 24]\n",
      " [13 56]]\n",
      "정확도 : 0.7933, 정밀도 : 0.7000, 재현율 : 0.8116, F1 : 0.7517\n",
      "--------------------\n",
      "임곗값: 0.45\n",
      "오차행렬\n",
      "[[91 19]\n",
      " [14 55]]\n",
      "정확도 : 0.8156, 정밀도 : 0.7432, 재현율 : 0.7971, F1 : 0.7692\n",
      "--------------------\n",
      "임곗값: 0.5\n",
      "오차행렬\n",
      "[[92 18]\n",
      " [16 53]]\n",
      "정확도 : 0.8101, 정밀도 : 0.7465, 재현율 : 0.7681, F1 : 0.7571\n",
      "--------------------\n",
      "임곗값: 0.55\n",
      "오차행렬\n",
      "[[97 13]\n",
      " [18 51]]\n",
      "정확도 : 0.8268, 정밀도 : 0.7969, 재현율 : 0.7391, F1 : 0.7669\n",
      "--------------------\n",
      "임곗값: 0.6\n",
      "오차행렬\n",
      "[[99 11]\n",
      " [25 44]]\n",
      "정확도 : 0.7989, 정밀도 : 0.8000, 재현율 : 0.6377, F1 : 0.7097\n"
     ]
    }
   ],
   "source": [
    "thresholds = [0.4,0.45,0.5,0.55,0.6]\n",
    "def get_eval_by_threshold(y_test,pred_proba_c1,thresholds):\n",
    "    for custom_threshold in thresholds:\n",
    "        binarizer = Binarizer(threshold=custom_threshold).fit(pred_proba_c1)\n",
    "        custom_predict = binarizer.transform(pred_proba_1)\n",
    "        print('-'*20)\n",
    "        print('임곗값:',custom_threshold)\n",
    "        get_clf_eval(y_test,custom_predict)    # 평가\n",
    "        \n",
    "get_eval_by_threshold(y_test,pred_proba[:,1].reshape(-1,1),thresholds)\n",
    "# F1은 0.45에서 가장 높게 나오네."
   ]
  },
  {
   "cell_type": "code",
   "execution_count": 163,
   "id": "4d9d9e3f-992e-4be6-84ba-ea12d3abe42e",
   "metadata": {},
   "outputs": [],
   "source": [
    "# AUC스코어 : 1에 가까울수록 좋은 것. 즉, ROC곡선이 가득 차게 그려지는 것이 좋다.\n",
    "# ROC곡선은 FPR(False Positive Rate)이 변할 때 TPR(True Positive Rate)이 어떻게 변하는지를 나타내는 곡선 (FPR이 x축, TPR이 y축)\n",
    "# TNR = TN / (FP + TN)\n",
    "# FPR = FP / (FP + TN) = (1 - TNR) = (1 - 특이성)"
   ]
  },
  {
   "cell_type": "code",
   "execution_count": 164,
   "id": "33e6993c-9483-493a-9264-097a6a4aaf3c",
   "metadata": {},
   "outputs": [],
   "source": [
    "from sklearn.metrics import roc_curve"
   ]
  },
  {
   "cell_type": "code",
   "execution_count": 166,
   "id": "a9df6f59-0c5f-44ac-8c1b-90d8b6485b2b",
   "metadata": {},
   "outputs": [],
   "source": [
    "fprs,tprs,thresholds = roc_curve(y_test,pred_proba_class1)"
   ]
  },
  {
   "cell_type": "code",
   "execution_count": 167,
   "id": "75946e63-33fe-4ba4-b38e-89e1a5bcf484",
   "metadata": {},
   "outputs": [],
   "source": [
    "thr_index = np.arange(1,thresholds.shape[0],5)    # 1에서 166까지 5마다."
   ]
  },
  {
   "cell_type": "code",
   "execution_count": 168,
   "id": "de511b4d-27f9-492a-93f7-9a84148b8f80",
   "metadata": {},
   "outputs": [
    {
     "data": {
      "text/plain": [
       "array([0.        , 0.04545455, 0.09090909, 0.10909091, 0.22727273,\n",
       "       0.26363636, 0.46363636, 0.51818182, 0.72727273, 0.85454545,\n",
       "       1.        ])"
      ]
     },
     "execution_count": 168,
     "metadata": {},
     "output_type": "execute_result"
    }
   ],
   "source": [
    "fprs[thr_index]"
   ]
  },
  {
   "cell_type": "code",
   "execution_count": 169,
   "id": "9867d8a0-4324-4c40-bcd2-decc2212fd38",
   "metadata": {},
   "outputs": [
    {
     "data": {
      "text/plain": [
       "array([0.01449275, 0.55072464, 0.5942029 , 0.73913043, 0.8115942 ,\n",
       "       0.86956522, 0.91304348, 0.92753623, 0.94202899, 0.97101449,\n",
       "       1.        ])"
      ]
     },
     "execution_count": 169,
     "metadata": {},
     "output_type": "execute_result"
    }
   ],
   "source": [
    "tprs[thr_index]"
   ]
  },
  {
   "cell_type": "code",
   "execution_count": 170,
   "id": "c435bd4e-8bb9-41a6-bfd1-85f92b459044",
   "metadata": {},
   "outputs": [],
   "source": [
    "def roc_curve_plot(y_test,pred_proba):\n",
    "    fprs,tprs,thresholds = roc_curve(y_test,pred_proba_class1)\n",
    "    plt.plot(fprs,tprs,label='ROC')\n",
    "    plt.show()"
   ]
  },
  {
   "cell_type": "code",
   "execution_count": 172,
   "id": "f4ef2b1b-2d96-4d9a-9679-12a6afe407c5",
   "metadata": {},
   "outputs": [
    {
     "data": {
      "image/png": "[encoded data removed]",
      "text/plain": [
       "<Figure size 432x288 with 1 Axes>"
      ]
     },
     "metadata": {
      "needs_background": "light"
     },
     "output_type": "display_data"
    }
   ],
   "source": [
    "roc_curve_plot(y_test,pred_proba_class1)    # 아래쪽 면적이 AUC값 = 1에 가까울수록 좋다.!!"
   ]
  },
  {
   "cell_type": "code",
   "execution_count": null,
   "id": "832b86f6-5a4b-454e-93ef-ab974e1f0b41",
   "metadata": {},
   "outputs": [],
   "source": [
    "## 피마 인디언 당뇨병 예측"
   ]
  }
 ],
 "metadata": {
  "kernelspec": {
   "display_name": "Python 3 (ipykernel)",
   "language": "python",
   "name": "python3"
  },
  "language_info": {
   "codemirror_mode": {
    "name": "ipython",
    "version": 3
   },
   "file_extension": ".py",
   "mimetype": "text/x-python",
   "name": "python",
   "nbconvert_exporter": "python",
   "pygments_lexer": "ipython3",
   "version": "3.9.7"
  }
 },
 "nbformat": 4,
 "nbformat_minor": 5
}
